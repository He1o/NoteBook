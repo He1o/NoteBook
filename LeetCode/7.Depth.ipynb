{
 "cells": [
  {
   "cell_type": "markdown",
   "metadata": {},
   "source": [
    "# 深度优先\n",
    "\n",
    "\n",
    "\n",
    "#### 1. Str \n",
    "-  [LeetCode](https://leetcode.cn/problems/longest-common-prefix/)  [| 14. 最长公共前缀](#14) \n",
    "\n",
    "#### 2. List \n",
    "\n",
    "#### 3. Linked \n",
    "\n",
    "#### 4. Tree \n",
    "\n",
    "#### 5. Graph \n",
    "\n",
    "#### 6. Num\n"
   ]
  },
  {
   "cell_type": "markdown",
   "metadata": {},
   "source": [
    "### 14. <span id = \"14\">最长公共前缀<span>"
   ]
  },
  {
   "cell_type": "code",
   "execution_count": null,
   "metadata": {},
   "outputs": [],
   "source": [
    "class Solution:\n",
    "    def longestCommonPrefix(self, strs: List[str]) -> str:\n",
    "        def prefix(a, b):\n",
    "            index = 0\n",
    "            for i in range(min(len(a), len(b))):\n",
    "                if a[i] == b[i]:\n",
    "                    index = i + 1\n",
    "                else:\n",
    "                    break\n",
    "            return a[:index]\n",
    "\n",
    "\n",
    "        pre = strs[0]\n",
    "        for a in strs[1:]:\n",
    "            pre = prefix(a)\n",
    "            if not pre:\n",
    "                break\n",
    "        return pre \n",
    "\n",
    "\n",
    "    def longestCommonPrefix(self, strs: List[str]) -> str:\n",
    "        # 利用python比较字符串的特性，只比较差异最大的两个即可\n",
    "        def prefix(a, b):\n",
    "            index = 0\n",
    "            for i in range(min(len(a), len(b))):\n",
    "                if a[i] == b[i]:\n",
    "                    index = i + 1\n",
    "                else:\n",
    "                    break\n",
    "            return a[:index]\n",
    "\n",
    "        return prefix(min(strs), max(strs))"
   ]
  }
 ],
 "metadata": {
  "kernelspec": {
   "display_name": "Python 3.9.6 64-bit",
   "language": "python",
   "name": "python3"
  },
  "language_info": {
   "name": "python",
   "version": "3.9.6"
  },
  "orig_nbformat": 4,
  "vscode": {
   "interpreter": {
    "hash": "1aec40e0cc8dcd72ae861723d928da7f867ad57df585952e683e938264a3f0b6"
   }
  }
 },
 "nbformat": 4,
 "nbformat_minor": 2
}
