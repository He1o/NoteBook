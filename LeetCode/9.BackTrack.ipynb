{
 "cells": [
  {
   "cell_type": "markdown",
   "metadata": {},
   "source": [
    "# 回溯\n",
    "\n",
    "\n",
    "\n",
    "#### 1. Str \n",
    "\n",
    "#### 2. List \n",
    "\n",
    "#### 3. Linked \n",
    "-  [LeetCode](https://leetcode.cn/problems/sudoku-solver/)  [| 37. 解数独](#37) \n",
    "\n",
    "#### 4. Tree \n",
    "\n",
    "#### 5. Graph \n",
    "\n",
    "#### 6. Num\n",
    "\n",
    "#### 7. Combination\n",
    "-  [LeetCode](https://leetcode.cn/problems/letter-combinations-of-a-phone-number/)  [| 17. 电话号码的字母组合](#17) \n",
    "-  [LeetCode](https://leetcode.cn/problems/generate-parentheses/)  [| 22. 括号生成](#22) \n",
    "-  [LeetCode](https://leetcode.cn/problems/combination-sum/)  [| 39. 组合总和](#39) \n",
    "-  [LeetCode](https://leetcode.cn/problems/combination-sum-ii/)  [| 40. 组合总和 II](#40) \n",
    "-  [LeetCode](https://leetcode.cn/problems/permutations/)  [| 46. 全排列](#46) \n",
    "-  [LeetCode](https://leetcode.cn/problems/permutations-ii/)  [| 47. 全排列 II](#47) \n",
    "-  [LeetCode](https://leetcode.cn/problems/n-queens/)  [| 51. N 皇后](#51) \n",
    "-  [LeetCode](https://leetcode.cn/problems/n-queens-ii/)  [| 52. N皇后 II](#52) \n"
   ]
  },
  {
   "cell_type": "markdown",
   "metadata": {},
   "source": [
    "### 17. <span id = \"17\">电话号码的字母组合<span>"
   ]
  },
  {
   "cell_type": "code",
   "execution_count": null,
   "metadata": {},
   "outputs": [],
   "source": [
    "class Solution:\n",
    "    def letterCombinations(self, digits: str) -> List[str]:\n",
    "        if not digits:\n",
    "            return []\n",
    "        table = {\n",
    "            2: 'abc',\n",
    "            3: 'def',\n",
    "            4: 'ghi',\n",
    "            5: 'jkl',\n",
    "            6: 'mno',\n",
    "            7: 'pqrs',\n",
    "            8: 'tuv',\n",
    "            9: 'wxyz'\n",
    "        }\n",
    "\n",
    "        n = len(digits)\n",
    "        results = []\n",
    "        result = ''\n",
    "        def backTrack(i):\n",
    "            nonlocal result\n",
    "            if i == n:\n",
    "                results.append(result)\n",
    "                return\n",
    "\n",
    "            for ch in table[int(digits[i])]:\n",
    "                result += ch\n",
    "                backTrack(i + 1)\n",
    "                result = result[:-1]\n",
    "\n",
    "        backTrack(0)\n",
    "        return results"
   ]
  },
  {
   "cell_type": "code",
   "execution_count": null,
   "metadata": {
    "vscode": {
     "languageId": "cpp"
    }
   },
   "outputs": [],
   "source": [
    "unordered_map<char, string> table = {\n",
    "    {'2', \"abc\"},\n",
    "    {'3', \"def\"},\n",
    "    {'4', \"ghi\"},\n",
    "    {'5', \"jkl\"},\n",
    "    {'6', \"mno\"},\n",
    "    {'7', \"pqrs\"},\n",
    "    {'8', \"tuv\"},\n",
    "    {'9', \"wxyz\"}\n",
    "};\n",
    "\n",
    "class Solution {\n",
    "public:\n",
    "    vector<string> letterCombinations(string digits) {\n",
    "    vector<string> results;\n",
    "    string result;\n",
    "\n",
    "    function<void(int)> backTrack = [&](int i){\n",
    "        if (i == digits.size()){\n",
    "            results.push_back(result);\n",
    "        }\n",
    "        for (const char& ch : table[digits[i]]){\n",
    "            result.push_back(ch);\n",
    "            backTrack(i + 1);\n",
    "            result.pop_back();\n",
    "        } \n",
    "    };\n",
    "    backTrack(0);\n",
    "    return results;\n",
    "    }\n",
    "};"
   ]
  },
  {
   "cell_type": "markdown",
   "metadata": {},
   "source": [
    "### 22. <span id = \"22\">括号生成<span>\n"
   ]
  },
  {
   "cell_type": "code",
   "execution_count": null,
   "metadata": {},
   "outputs": [],
   "source": [
    "class Solution:\n",
    "    def generateParenthesis(self, n: int) -> List[str]:\n",
    "        results = []\n",
    "        result = []\n",
    "\n",
    "        def dfs(i, j):\n",
    "            if i == 0 and j == 0:\n",
    "                results.append(''.join(result))\n",
    "\n",
    "            if i < j:\n",
    "                result.append(')')\n",
    "                dfs(i, j - 1)\n",
    "                result.pop()\n",
    "            if i > 0:\n",
    "                result.append('(')\n",
    "                dfs(i - 1, j)\n",
    "                result.pop()\n",
    "        \n",
    "        dfs(n, n)\n",
    "        return results"
   ]
  },
  {
   "cell_type": "code",
   "execution_count": null,
   "metadata": {
    "vscode": {
     "languageId": "cpp"
    }
   },
   "outputs": [],
   "source": [
    "class Solution {\n",
    "public:\n",
    "    vector<string> generateParenthesis(int n) {\n",
    "        function \n",
    "\n",
    "    }\n",
    "};"
   ]
  },
  {
   "cell_type": "markdown",
   "metadata": {},
   "source": [
    "### 37. <span id = \"37\">解数独<span>\n"
   ]
  },
  {
   "cell_type": "code",
   "execution_count": null,
   "metadata": {},
   "outputs": [],
   "source": [
    "class Solution:\n",
    "    def solveSudoku(self, board: List[List[str]]) -> None:\n",
    "        \"\"\"\n",
    "        Do not return anything, modify board in-place instead.\n",
    "        \"\"\"\n",
    "\n",
    "        rows = [defaultdict(int) for _ in range(9)]\n",
    "        cols = [defaultdict(int) for _ in range(9)]\n",
    "        mtrs = [defaultdict(int) for _ in range(9)]\n",
    "        for i in range(9):\n",
    "            for j in range(9):\n",
    "                if board[i][j].isdigit():\n",
    "                    rows[i][int(board[i][j])] += 1\n",
    "                    cols[j][int(board[i][j])] += 1\n",
    "                    mtrs[(i // 3) * 3 + (j // 3)][int(board[i][j])] += 1\n",
    "\n",
    "        flag = False\n",
    "\n",
    "        def backTrack(idx):\n",
    "            nonlocal flag\n",
    "            if idx == 81:\n",
    "                flag = True\n",
    "                return\n",
    "\n",
    "            i, j = divmod(idx, 9)\n",
    "            if board[i][j].isdigit():\n",
    "                backTrack(idx + 1)\n",
    "            else:\n",
    "                for num in range(1, 10):\n",
    "                    if rows[i][num] < 1 and cols[j][num] < 1 and mtrs[(i // 3) * 3 + (j // 3)][num] < 1:\n",
    "                        rows[i][num] += 1\n",
    "                        cols[j][num] += 1\n",
    "                        mtrs[(i // 3) * 3 + (j // 3)][num] += 1\n",
    "                        board[i][j] = str(num)\n",
    "                        backTrack(idx + 1)\n",
    "                        if flag: return \n",
    "                        rows[i][num] -= 1\n",
    "                        cols[j][num] -= 1\n",
    "                        mtrs[(i // 3) * 3 + (j // 3)][num] -= 1\n",
    "                        board[i][j] = '.'                       \n",
    "        \n",
    "        backTrack(0)"
   ]
  },
  {
   "cell_type": "markdown",
   "metadata": {},
   "source": [
    "### 39. <span id = \"39\">组合总和<span>\n",
    "\n",
    "如果想要提前退出循环，需要对candidates进行排序，如果当前和大于目标值，则可以退出循环。"
   ]
  },
  {
   "cell_type": "code",
   "execution_count": null,
   "metadata": {},
   "outputs": [],
   "source": [
    "class Solution:\n",
    "    def combinationSum(self, candidates: List[int], target: int) -> List[List[int]]:\n",
    "        candidates.sort()\n",
    "        combination = []\n",
    "        combinations = []\n",
    "        n = len(candidates)\n",
    "\n",
    "        def backTrack(i, target):\n",
    "            if target == 0:\n",
    "                combinations.append(combination[:])\n",
    "            \n",
    "            for j in range(i, n):\n",
    "                if target - candidates[j] < 0:\n",
    "                    return\n",
    "\n",
    "                combination.append(candidates[j])\n",
    "                backTrack(j, target - candidates[j])\n",
    "                combination.pop()\n",
    "        \n",
    "        backTrack(0, target)\n",
    "        return combinations"
   ]
  },
  {
   "cell_type": "markdown",
   "metadata": {},
   "source": [
    "### 40. <span id = \"39\">组合总和 II<span>\n",
    "\n",
    "跳过重复的元素，当前循环 j>i 的时候"
   ]
  },
  {
   "cell_type": "code",
   "execution_count": null,
   "metadata": {},
   "outputs": [],
   "source": [
    "class Solution:\n",
    "    def combinationSum2(self, candidates: List[int], target: int) -> List[List[int]]:\n",
    "        candidates.sort()\n",
    "        combination = []\n",
    "        combinations = []\n",
    "        n = len(candidates)\n",
    "\n",
    "        def backTrack(i, residue):\n",
    "            if residue == 0:\n",
    "                combinations.append(combination[:])\n",
    "            \n",
    "            for j in range(i, n):\n",
    "                if j > i and candidates[j] == candidates[j - 1]:\n",
    "                    continue\n",
    "\n",
    "                if residue - candidates[j] < 0:\n",
    "                    return\n",
    "\n",
    "                combination.append(candidates[j])\n",
    "                backTrack(j + 1, residue - candidates[j])\n",
    "                combination.pop()\n",
    "        \n",
    "        backTrack(0, target)\n",
    "        return combinations"
   ]
  },
  {
   "cell_type": "markdown",
   "metadata": {},
   "source": [
    "### 46. <span id = \"46\">全排列<span>\n",
    "\n",
    "可以在原有数组上进行修改，将使用过的移动到当前num的位置，之前的都不使用\n",
    "\n",
    "nums[num], nums[i] = nums[i], nums[num]\n",
    "\n",
    "这样可以节省set的空间"
   ]
  },
  {
   "cell_type": "code",
   "execution_count": null,
   "metadata": {},
   "outputs": [],
   "source": [
    "class Solution:\n",
    "    def permute(self, nums: List[int]) -> List[List[int]]:\n",
    "        n = len(nums)\n",
    "        visited = set()\n",
    "\n",
    "        combination = []\n",
    "        combinations = []\n",
    "        def backTrack(num):\n",
    "            if num == n:\n",
    "                combinations.append(combination[:])\n",
    "\n",
    "            for i in range(n):\n",
    "                if i not in visited:\n",
    "                    visited.add(i)\n",
    "                    combination.append(nums[i])\n",
    "                    backTrack(num + 1)\n",
    "                    combination.pop()\n",
    "                    visited.remove(i)\n",
    "        backTrack(0)\n",
    "        return combinations"
   ]
  },
  {
   "cell_type": "markdown",
   "metadata": {},
   "source": [
    "### 47. <span id = \"47\">全排列 II<span>"
   ]
  },
  {
   "cell_type": "code",
   "execution_count": null,
   "metadata": {},
   "outputs": [],
   "source": [
    "class Solution:\n",
    "    def permute(self, nums: List[int]) -> List[List[int]]:\n",
    "        n = len(nums)\n",
    "        visited = [0 for _ in range(n)]\n",
    "        combination = []\n",
    "        combinations = []\n",
    "        def backTrack(num):\n",
    "            if num == n:\n",
    "                combinations.append(combination[:])\n",
    "\n",
    "            for i in range(n):\n",
    "                if i > 0 and nums[i] == nums[i - 1] and visited[i - 1] == 0:\n",
    "                    continue\n",
    "                visited[i] = 1\n",
    "                combination.append(nums[i])\n",
    "                backTrack(num + 1)\n",
    "                combination.pop()\n",
    "                visited[i] = 0\n",
    "        backTrack(0)\n",
    "        return combinations"
   ]
  },
  {
   "cell_type": "markdown",
   "metadata": {},
   "source": [
    "### 51. <span id = \"47\">N 皇后<span>"
   ]
  },
  {
   "cell_type": "code",
   "execution_count": null,
   "metadata": {},
   "outputs": [],
   "source": [
    "class Solution:\n",
    "    def solveNQueens(self, n: int) -> List[List[str]]:\n",
    "        def build(Qpos):\n",
    "            res = []\n",
    "            for pos in Qpos:\n",
    "                tmp = ['.'] * n\n",
    "                tmp[pos] = 'Q'\n",
    "                res.append(''.join(tmp))\n",
    "            return res\n",
    "\n",
    "        Qpos = []\n",
    "        cols = set()\n",
    "        lefs = set()\n",
    "        rigs = set()\n",
    "        results = []\n",
    "        def backTrack(i):\n",
    "            if i == n:\n",
    "                results.append(build(Qpos))\n",
    "\n",
    "            for j in range(n):\n",
    "                if j not in cols and (i + j) not in lefs and (i - j) not in rigs:\n",
    "                    cols.add(j)\n",
    "                    lefs.add(i + j)\n",
    "                    rigs.add(i - j)\n",
    "                    Qpos.append(j)\n",
    "                    backTrack(i + 1)\n",
    "                    Qpos.pop()\n",
    "                    cols.remove(j)\n",
    "                    lefs.remove(i + j)\n",
    "                    rigs.remove(i - j)\n",
    "        backTrack(0)\n",
    "        return results"
   ]
  },
  {
   "cell_type": "markdown",
   "metadata": {},
   "source": [
    "### 52. <span id = \"47\">N皇后 II<span>"
   ]
  },
  {
   "cell_type": "code",
   "execution_count": null,
   "metadata": {},
   "outputs": [],
   "source": [
    "class Solution:\n",
    "    def totalNQueens(self, n: int) -> List[List[str]]:\n",
    "        Qpos = []\n",
    "        cols = set()\n",
    "        lefs = set()\n",
    "        rigs = set()\n",
    "        results = [0]\n",
    "        def backTrack(i):\n",
    "            if i == n:\n",
    "                results[0] += 1\n",
    "\n",
    "            for j in range(n):\n",
    "                if j not in cols and (i + j) not in lefs and (i - j) not in rigs:\n",
    "                    cols.add(j)\n",
    "                    lefs.add(i + j)\n",
    "                    rigs.add(i - j)\n",
    "                    Qpos.append(j)\n",
    "                    backTrack(i + 1)\n",
    "                    Qpos.pop()\n",
    "                    cols.remove(j)\n",
    "                    lefs.remove(i + j)\n",
    "                    rigs.remove(i - j)\n",
    "        backTrack(0)\n",
    "        return results[0]"
   ]
  }
 ],
 "metadata": {
  "kernelspec": {
   "display_name": "Python 3.9.6 64-bit",
   "language": "python",
   "name": "python3"
  },
  "language_info": {
   "codemirror_mode": {
    "name": "ipython",
    "version": 3
   },
   "file_extension": ".py",
   "mimetype": "text/x-python",
   "name": "python",
   "nbconvert_exporter": "python",
   "pygments_lexer": "ipython3",
   "version": "3.9.6"
  },
  "orig_nbformat": 4,
  "vscode": {
   "interpreter": {
    "hash": "1aec40e0cc8dcd72ae861723d928da7f867ad57df585952e683e938264a3f0b6"
   }
  }
 },
 "nbformat": 4,
 "nbformat_minor": 2
}
