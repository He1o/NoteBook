{
 "cells": [
  {
   "cell_type": "markdown",
   "metadata": {},
   "source": [
    "# 递归\n",
    "\n",
    "\n",
    "\n",
    "#### 1. Str \n",
    "\n",
    "#### 2. List \n",
    "\n",
    "#### 3. Linked \n",
    "-  [LeetCode](https://leetcode.cn/problems/merge-two-sorted-lists/)  [| 21. 合并两个有序链表](#21) \n",
    "-  [LeetCode](https://leetcode.cn/problems/merge-two-sorted-lists/)  [| 24. 两两交换链表中的节点](#24) \n",
    "-  [LeetCode](https://leetcode.cn/problems/reverse-nodes-in-k-group/)  [| 25. K 个一组翻转链表](#25) \n",
    "\n",
    "#### 4. Tree \n",
    "\n",
    "#### 5. Graph \n",
    "\n",
    "#### 6. Num\n",
    "\n",
    "#### 7. Combination\n",
    "-  [LeetCode](https://leetcode.cn/problems/generate-parentheses/)  [| 22. 括号生成](#22) \n"
   ]
  },
  {
   "cell_type": "markdown",
   "metadata": {},
   "source": [
    "### 21. <span id = \"21\">合并两个有序链表<span>\n",
    "\n",
    "递归形式，还可以用迭代"
   ]
  },
  {
   "cell_type": "code",
   "execution_count": null,
   "metadata": {},
   "outputs": [],
   "source": [
    "class Solution:\n",
    "    def mergeTwoLists(self, list1: Optional[ListNode], list2: Optional[ListNode]) -> Optional[ListNode]:\n",
    "        if not list1: return list2\n",
    "        if not list2: return list1\n",
    "\n",
    "        if list1.val < list2.val:\n",
    "            list1.next = self.mergeTwoLists(list1.next, list2)\n",
    "            return list1\n",
    "        else:\n",
    "            list2.next = self.mergeTwoLists(list1, list2.next)\n",
    "            return list2 "
   ]
  },
  {
   "cell_type": "code",
   "execution_count": null,
   "metadata": {
    "vscode": {
     "languageId": "cpp"
    }
   },
   "outputs": [],
   "source": [
    "class Solution {\n",
    "public:\n",
    "    ListNode* mergeTwoLists(ListNode* list1, ListNode* list2) {\n",
    "        if (list1 == nullptr){return list2;} \n",
    "        if (list2 == nullptr){return list1;} \n",
    "\n",
    "        if (list1->val < list2->val){\n",
    "            list1->next = mergeTwoLists(list1->next, list2);\n",
    "            return list1;\n",
    "        } else {\n",
    "            list2->next = mergeTwoLists(list1, list2->next);\n",
    "            return list2;\n",
    "        }\n",
    "    }\n",
    "};"
   ]
  },
  {
   "cell_type": "markdown",
   "metadata": {},
   "source": [
    "### 22. <span id = \"22\">括号生成<span>\n",
    "\n",
    "动态规划的递归实现方式"
   ]
  },
  {
   "cell_type": "code",
   "execution_count": null,
   "metadata": {},
   "outputs": [],
   "source": [
    "class Solution:\n",
    "    @lru_cache\n",
    "    def generateParenthesis(self, n: int) -> List[str]:\n",
    "        if n == 0:\n",
    "            return ['']\n",
    "\n",
    "        results = []\n",
    "        for i in range(n):\n",
    "            \n",
    "            l = self.generateParenthesis(i)\n",
    "            r = self.generateParenthesis(n - i - 1)\n",
    "\n",
    "            for left in l:\n",
    "                for right in r:\n",
    "                    results.append('{}({})'.format(left, right))\n",
    "        return results"
   ]
  },
  {
   "cell_type": "code",
   "execution_count": null,
   "metadata": {
    "vscode": {
     "languageId": "cpp"
    }
   },
   "outputs": [],
   "source": [
    "class Solution {\n",
    "public:\n",
    "    vector<string> generateParenthesis(int n) {\n",
    "        if (n == 0) {return {\"\"};}\n",
    "        vector<string> res;\n",
    "        for (int i = 0; i < n; ++i){\n",
    "            for (string &l : generateParenthesis(i)){\n",
    "                for (string &r : generateParenthesis(n - i - 1)){\n",
    "                    res.push_back('(' + l + ')' + r);\n",
    "                }\n",
    "            }\n",
    "        }\n",
    "        return res;\n",
    "    }\n",
    "};\n",
    "\n",
    "# 优化速度和内存\n",
    "class Solution {\n",
    "public:\n",
    "    shared_ptr<vector<string>> generate(int n) {\n",
    "        if (cache[n] == nullptr){\n",
    "            if (n == 0) {\n",
    "                cache[n] = shared_ptr<vector<string>>(new vector<string>{\"\"});\n",
    "            } else {\n",
    "                shared_ptr<vector<string>> res(new vector<string>);\n",
    "                for (int i = 0; i < n; ++i){\n",
    "                    for (string &l : *generate(i)){\n",
    "                        for (string &r : *generate(n - i - 1)){\n",
    "                            res->push_back('(' + l + ')' + r);\n",
    "                        }\n",
    "                    }\n",
    "                }\n",
    "                cache[n] = res;\n",
    "            }\n",
    "        }\n",
    "        return cache[n];\n",
    "    }\n",
    "\n",
    "    vector<string> generateParenthesis(int n) {\n",
    "        return *generate(n);\n",
    "    }\n",
    "\n",
    "private:\n",
    "    shared_ptr<vector<string>> cache[100] = {nullptr};\n",
    "};"
   ]
  },
  {
   "cell_type": "markdown",
   "metadata": {},
   "source": [
    "### 24. <span id = \"24\">两两交换链表中的节点<span>"
   ]
  },
  {
   "cell_type": "code",
   "execution_count": null,
   "metadata": {},
   "outputs": [],
   "source": [
    "class Solution:\n",
    "    def swapPairs(self, head: Optional[ListNode]) -> Optional[ListNode]:\n",
    "        if not head or not head.next:\n",
    "            return head\n",
    "        \n",
    "        tmp = head.next\n",
    "        head.next = self.swapPairs(head.next.next)\n",
    "        tmp.next = head\n",
    "        return tmp"
   ]
  },
  {
   "cell_type": "code",
   "execution_count": null,
   "metadata": {
    "vscode": {
     "languageId": "cpp"
    }
   },
   "outputs": [],
   "source": [
    "class Solution {\n",
    "public:\n",
    "    ListNode* swapPairs(ListNode* head) {\n",
    "        if (head && head->next){\n",
    "            ListNode* tail = head->next;\n",
    "            head->next = swapPairs(tail->next);\n",
    "            tail->next = head;\n",
    "            return tail;\n",
    "        } else {\n",
    "            return head;\n",
    "        }\n",
    "    }\n",
    "};"
   ]
  },
  {
   "cell_type": "markdown",
   "metadata": {},
   "source": [
    "### 25. <span id = \"25\">K 个一组翻转链表<span>\n",
    "\n",
    "递归的方式，预先把prev设置成末尾元素之后翻转好的剩余链表\n",
    "\n",
    "每一步将head的next指针指向prev，只需要一个临时变量temp存储head.next\n",
    "\n",
    "然后依次前进 prev=head，head=temp\n",
    "\n",
    "翻转k个元素正好完全操作以上步骤k次\n",
    "\n",
    "最后prev指向的也就是开始的末尾元素，反转后就变成了头元素，返回即可\n",
    "\n",
    "如果k=1，结果等同于不翻转"
   ]
  },
  {
   "cell_type": "code",
   "execution_count": null,
   "metadata": {},
   "outputs": [],
   "source": [
    "class Solution:\n",
    "    def reverseKGroup(self, head: Optional[ListNode], k: int) -> Optional[ListNode]:\n",
    "        tail = head\n",
    "        count = 0\n",
    "        while tail and count < k:\n",
    "            count += 1\n",
    "            tail = tail.next\n",
    "        \n",
    "        if count == k:\n",
    "            prev = self.reverseKGroup(tail, k)\n",
    "            while count > 0:\n",
    "                temp = head.next\n",
    "                head.next = prev\n",
    "                prev = head\n",
    "                head = temp\n",
    "                count -= 1\n",
    "            head = prev\n",
    "        return head"
   ]
  },
  {
   "cell_type": "code",
   "execution_count": null,
   "metadata": {
    "vscode": {
     "languageId": "cpp"
    }
   },
   "outputs": [],
   "source": [
    "class Solution {\n",
    "public:\n",
    "    ListNode* reverseKGroup(ListNode* head, int k) {\n",
    "        int i = 0;\n",
    "        ListNode* tail = head;\n",
    "        while (tail && i < k){\n",
    "            tail = tail->next;\n",
    "            ++i;\n",
    "        }\n",
    "\n",
    "        if (i == k) {\n",
    "            auto prev = reverseKGroup(tail, k);\n",
    "            auto curr = head;\n",
    "            while (i > 0) {\n",
    "                curr = head->next;\n",
    "                head->next = prev;\n",
    "                prev = head;\n",
    "                head = curr;\n",
    "                --i;\n",
    "            }\n",
    "            head = prev;\n",
    "        }\n",
    "        return head;\n",
    "    }\n",
    "};"
   ]
  }
 ],
 "metadata": {
  "kernelspec": {
   "display_name": "Python 3.9.6 64-bit",
   "language": "python",
   "name": "python3"
  },
  "language_info": {
   "name": "python",
   "version": "3.9.6"
  },
  "orig_nbformat": 4,
  "vscode": {
   "interpreter": {
    "hash": "1aec40e0cc8dcd72ae861723d928da7f867ad57df585952e683e938264a3f0b6"
   }
  }
 },
 "nbformat": 4,
 "nbformat_minor": 2
}
