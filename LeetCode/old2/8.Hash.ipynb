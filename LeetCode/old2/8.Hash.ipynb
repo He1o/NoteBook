{
 "cells": [
  {
   "cell_type": "markdown",
   "metadata": {},
   "source": [
    "# 哈希表\n",
    "\n",
    "python 中，set 和 dict 都是哈希表，查询某个元素是否存在的时间复杂度都是 $O(1)$\n",
    "\n",
    "key 可以是Node，即class实例，只要是不可变对象即可"
   ]
  },
  {
   "cell_type": "markdown",
   "metadata": {},
   "source": [
    "### 128. 最长连续序列\n",
    "给定一个未排序的整数数组 nums ，找出数字连续的最长序列（不要求序列元素在原数组中连续）的长度。\n",
    "\n",
    "请你设计并实现时间复杂度为 O(n) 的算法解决此问题。\n",
    "\n",
    "- 示例 1：输入：nums = [100,4,200,1,3,2]输出：4解释：最长数字连续序列是 [1, 2, 3, 4]。它的长度为 4。\n",
    "- 示例 2：输入：nums = [0,3,7,2,5,8,4,6,0,1]输出：9\n",
    " \n",
    "提示：0 <= nums.length <= 105,-109 <= nums[i] <= 109"
   ]
  },
  {
   "cell_type": "code",
   "execution_count": null,
   "metadata": {},
   "outputs": [],
   "source": [
    "class Solution:\n",
    "    def longestConsecutive(self, nums: List[int]) -> int:\n",
    "        longest = 0\n",
    "        nums_set = set(nums)\n",
    "        for num in nums_set:\n",
    "            if num - 1 not in nums_set:\n",
    "                tmp_longest = 1\n",
    "                tmp = num + 1\n",
    "                while tmp in nums_set:\n",
    "                    tmp_longest += 1\n",
    "                    tmp += 1\n",
    "                \n",
    "                longest = max(tmp_longest, longest)\n",
    "        return longest\n",
    "                "
   ]
  }
 ],
 "metadata": {
  "language_info": {
   "name": "python"
  },
  "orig_nbformat": 4
 },
 "nbformat": 4,
 "nbformat_minor": 2
}