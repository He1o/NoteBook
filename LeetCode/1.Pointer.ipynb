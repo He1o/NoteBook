{
 "cells": [
  {
   "cell_type": "markdown",
   "metadata": {},
   "source": [
    "# 指针方法\n",
    "\n",
    "#### 1. Str \n",
    "-  [LeetCode](https://leetcode.cn/problems/longest-substring-without-repeating-characters/)  [| 3. 无重复字符的最长子串](#3) (滑动窗口)\n",
    "-  [LeetCode](https://leetcode.cn/problems/longest-palindromic-substring/)  [| 5. 最长回文子串](#5) (中心扩展)\n",
    "-  [LeetCode](https://leetcode.cn/problems/longest-valid-parentheses/)  [| 32. 最长有效括号](#32)  (左右遍历)\n",
    "\n",
    "#### 2. List \n",
    "-  [LeetCode](https://leetcode.cn/problems/container-with-most-water/)  [| 11. 盛最多水的容器](#11) (前后指针)\n",
    "-  [LeetCode](https://leetcode.cn/problems/3sum/)  [| 15. 三数之和](#15) (前后指针)\n",
    "-  [LeetCode](https://leetcode.cn/problems/3sum-closest/)  [| 16. 最接近的三数之和](#16) (前后指针)\n",
    "-  [LeetCode](https://leetcode.cn/problems/4sum/)  [| 18. 四数之和](#18) (前后指针)\n",
    "-  [LeetCode](https://leetcode.cn/problems/remove-duplicates-from-sorted-array/)  [| 26. 删除有序数组中的重复项](#26) (快慢指针)\n",
    "-  [LeetCode](https://leetcode.cn/problems/remove-element/)  [| 27. 移除元素](#27) (快慢指针)\n",
    "-  [LeetCode](https://leetcode.cn/problems/substring-with-concatenation-of-all-words/)  [| 30. 串联所有单词的子串](#30) (滑动窗口)\n",
    "-  [LeetCode](https://leetcode.cn/problems/trapping-rain-water/)  [| 42. 接雨水](#42) (前后指针)\n",
    "-  [LeetCode](https://leetcode.cn/problems/sort-colors/)  [| 75. 颜色分类](#75) (前后指针)\n",
    "\n",
    "#### 3. Linked \n",
    "-  [LeetCode](https://leetcode.cn/problems/remove-nth-node-from-end-of-list/)  [| 19. 删除链表的倒数第 N 个结点](#19) (快慢指针)\n",
    "-  [LeetCode](https://leetcode.cn/problems/merge-two-sorted-lists/)  [| 21. 合并两个有序链表](#21) \n",
    "-  [LeetCode](https://leetcode.cn/problems/merge-k-sorted-lists/)  [| 23. 合并K个升序链表](#23) \n",
    "-  [LeetCode](https://leetcode.cn/problems/merge-two-sorted-lists/)  [| 24. 两两交换链表中的节点](#24) \n",
    "-  [LeetCode](https://leetcode.cn/problems/reverse-nodes-in-k-group/)  [| 25. K 个一组翻转链表](#25) \n",
    "-  [LeetCode](https://leetcode.cn/problems/rotate-list/)  [| 61. 旋转链表](#61) (快慢指针)\n",
    "\n",
    "#### 4. Tree \n",
    "\n",
    "#### 5. Graph \n"
   ]
  },
  {
   "cell_type": "markdown",
   "metadata": {},
   "source": [
    "### 3. <span id = \"3\">无重复字符的最长子串<span>\n",
    "\n",
    "给定一个字符串，找出其中不含有重复字符的最长子串的长度。\n",
    "\n",
    "1. 双指针+哈希表\n",
    "2. 右指针一直右移，左指针指在不重复子串开始的位置\n",
    "3. 当右指针元素在哈希表中，从左指针开始移除元素，并且左指针前进，直到右指针元素不在哈希表中。"
   ]
  },
  {
   "cell_type": "code",
   "execution_count": null,
   "metadata": {},
   "outputs": [],
   "source": [
    "class Solution:\n",
    "    def lengthOfLongestSubstring(self, s: str) -> int:\n",
    "        chset = set()\n",
    "        result = j = 0\n",
    "        for i in range(len(s)):\n",
    "            while s[i] in chset:\n",
    "                chset.remove(s[j])\n",
    "                j += 1\n",
    "            chset.add(s[i])\n",
    "            result = max(result, i - j + 1)\n",
    "        return result"
   ]
  },
  {
   "cell_type": "code",
   "execution_count": null,
   "metadata": {
    "vscode": {
     "languageId": "cpp"
    }
   },
   "outputs": [],
   "source": [
    "class Solution {\n",
    "public:\n",
    "    int lengthOfLongestSubstring(string s) {\n",
    "        unordered_set<char> hashtable;\n",
    "        int j = 0;\n",
    "        int result = 0;\n",
    "        for (int i = 0; i < s.size(); i++){\n",
    "            while (hashtable.find(s[i]) != hashtable.end()){\n",
    "                 hashtable.erase(s[j]);\n",
    "                 j++;\n",
    "            }\n",
    "            hashtable.insert(s[i]);\n",
    "            result = max(result, i - j + 1);\n",
    "        }\n",
    "        return result;\n",
    "    }\n",
    "};"
   ]
  },
  {
   "cell_type": "markdown",
   "metadata": {},
   "source": [
    "### 5. <span id = \"5\">最长回文子串<span>\n",
    "\n",
    "给你一个字符串 s，找到 s 中最长的回文子串。\n",
    "\n",
    "1. 中心扩展的方法，确定中心索引，左右指针同时向外移动\n"
   ]
  },
  {
   "cell_type": "code",
   "execution_count": null,
   "metadata": {},
   "outputs": [],
   "source": [
    "class Solution:\n",
    "    def longestPalindrome(self, s: str) -> str:\n",
    "        if not s:\n",
    "            return ''\n",
    "        \n",
    "        def judge(i, j):\n",
    "            if i >= 0 and j < n and s[i] == s[j]:\n",
    "                return True\n",
    "            else:\n",
    "                return False\n",
    "\n",
    "        n = len(s)\n",
    "        maxLen = 1\n",
    "        start, end = 0, 0\n",
    "        for center in range(n):\n",
    "            for i, j in [[center - 1, center + 1], [center, center + 1]]:\n",
    "                while judge(i, j):\n",
    "                    if j - i + 1 > maxLen:\n",
    "                        maxLen = j - i + 1\n",
    "                        start, end = i, j\n",
    "                    i -= 1\n",
    "                    j += 1\n",
    "        return s[start: end + 1]\n",
    "\n"
   ]
  },
  {
   "cell_type": "code",
   "execution_count": null,
   "metadata": {
    "vscode": {
     "languageId": "cpp"
    }
   },
   "outputs": [],
   "source": [
    "class Solution {\n",
    "public:\n",
    "    pair<int, int> expandCenter(const string& s, int left, int right){\n",
    "        while(left >= 0 && right < s.size() && s[left] == s[right]){\n",
    "            left -= 1;\n",
    "            right += 1;\n",
    "        }\n",
    "        return {left + 1, right - 1};\n",
    "    }\n",
    "\n",
    "    string longestPalindrome(string s) {\n",
    "        int start = 0, end = 0, maxLen = 0;\n",
    "        for (int i = 0; i < s.size(); i++){\n",
    "            auto [l1, r1] = expandCenter(s, i, i);\n",
    "            auto [l2, r2] = expandCenter(s, i, i + 1);\n",
    "            if (r1 - l1 + 1 > maxLen){\n",
    "                maxLen = r1 - l1 + 1;\n",
    "                start = l1;\n",
    "                end = r1;\n",
    "            }\n",
    "            if (r2 - l2 + 1 > maxLen){\n",
    "                maxLen = r2 - l2 + 1;\n",
    "                start = l2;\n",
    "                end = r2;\n",
    "            }\n",
    "        }\n",
    "        return s.substr(start, maxLen);\n",
    "\n",
    "    }\n",
    "};"
   ]
  },
  {
   "cell_type": "markdown",
   "metadata": {},
   "source": [
    "### 11. <span id = \"11\">盛最多水的容器<span>\n",
    "\n",
    "总的搜索空间是i*j\n",
    "\n",
    "如果移动长的，最优结果不会增加，那么这些选择都可以减掉\n",
    "\n",
    "通过i+1，减掉所有(i,j-1),(i,j-2)...(i,i+1)\n"
   ]
  },
  {
   "cell_type": "code",
   "execution_count": null,
   "metadata": {},
   "outputs": [],
   "source": [
    "class Solution:\n",
    "    def maxArea(self, height: List[int]) -> int:\n",
    "        i, j = 0, len(height) - 1\n",
    "        result = 0\n",
    "        while i < j:\n",
    "            result = max(result, min(height[i], height[j]) * (j - i))\n",
    "            if height[i] > height[j]:\n",
    "                j -= 1\n",
    "            else:\n",
    "                i += 1\n",
    "        return result"
   ]
  },
  {
   "cell_type": "code",
   "execution_count": null,
   "metadata": {
    "vscode": {
     "languageId": "cpp"
    }
   },
   "outputs": [],
   "source": [
    "class Solution {\n",
    "public:\n",
    "    int maxArea(vector<int>& height) {\n",
    "        int i = 0, res = 0;\n",
    "        int j = height.size() - 1;\n",
    "\n",
    "        while (i < j){\n",
    "            res = max(res, min(height[i], height[j]) * (j - i));\n",
    "            if (height[i] < height[j]){\n",
    "                i += 1;\n",
    "            } else {\n",
    "                j -= 1;\n",
    "            }\n",
    "        }\n",
    "        return res;\n",
    "    }\n",
    "};"
   ]
  },
  {
   "attachments": {},
   "cell_type": "markdown",
   "metadata": {},
   "source": [
    "### 15. <span id = \"15\">三数之和<span>\n",
    "\n",
    "思路与11题相似，在排序之后，第一个指针确定第一个数，二三指针前后遍历\n",
    "\n",
    "当总和比0大的时候，只有移动较大的指针才会使总和接近于0，而移动较小的指针不会起作用，这就是双指针的思路\n",
    "\n",
    "与两数之和不同的地方在于，用哈希表时间复杂度可以满足要求，但难以去重\n",
    "\n",
    "而两数之和之所以无法用双指针，是因为排序时间nlogn比单次遍历时间还要久\n",
    "\n",
    "三个指针移动的时候都需要去重\n",
    "\n",
    "优化:\n",
    "1. 只需要在==0时去重即可，大于小于不去重不影响"
   ]
  },
  {
   "cell_type": "code",
   "execution_count": null,
   "metadata": {},
   "outputs": [],
   "source": [
    "class Solution:\n",
    "    def threeSum(self, nums: List[int]) -> List[List[int]]:\n",
    "        nums.sort()\n",
    "        n = len(nums)\n",
    "        results = []\n",
    "        for i in range(n):\n",
    "            if nums[i] > 0:\n",
    "                break\n",
    "            if i > 0 and nums[i] == nums[i - 1]:\n",
    "                continue\n",
    "\n",
    "            j, k = i + 1, n - 1\n",
    "            while j < k:\n",
    "                total = nums[i] + nums[j] + nums[k]\n",
    "                if total == 0:\n",
    "                    results.append([nums[i], nums[j], nums[k]])\n",
    "                    j += 1\n",
    "                    k -= 1\n",
    "                    while j < k and nums[j] == nums[j - 1]: j += 1\n",
    "                    while j < k and nums[k] == nums[k + 1]: k -= 1\n",
    "                elif total > 0:\n",
    "                    k -= 1\n",
    "                    while j < k and nums[k] == nums[k + 1]: k -= 1\n",
    "                else:\n",
    "                    j += 1\n",
    "                    while j < k and nums[j] == nums[j - 1]: j += 1\n",
    "\n",
    "        return results"
   ]
  },
  {
   "cell_type": "code",
   "execution_count": null,
   "metadata": {
    "vscode": {
     "languageId": "cpp"
    }
   },
   "outputs": [],
   "source": [
    "class Solution {\n",
    "public:\n",
    "    vector<vector<int>> threeSum(vector<int>& nums) {\n",
    "        vector<vector<int>> results;\n",
    "        sort(nums.begin(), nums.end());\n",
    "        int n = nums.size();\n",
    "        for (int i = 0; i < n; ++i){\n",
    "            if (i > 0 && nums[i] == nums[i - 1]) {continue;}\n",
    "            if (nums[i] > 0){break;}\n",
    "            int j = i + 1, k = n - 1;\n",
    "            while (j < k){\n",
    "                int total = nums[i] + nums[j] + nums[k];\n",
    "                if (total == 0){\n",
    "                    results.push_back({nums[i], nums[j], nums[k]});\n",
    "                    k -= 1;\n",
    "                    j += 1;\n",
    "                    while (k > -1 && nums[k] == nums[k + 1]){k -= 1;}\n",
    "                    while (j < n && nums[j] == nums[j - 1]){j += 1;}\n",
    "                } else if (total > 0) {\n",
    "                    k -= 1;\n",
    "                } else{\n",
    "                    j += 1;\n",
    "                }\n",
    "            }\n",
    "        }\n",
    "        return results;\n",
    "    }\n",
    "};"
   ]
  },
  {
   "cell_type": "markdown",
   "metadata": {},
   "source": [
    "### 16. <span id = \"16\">最接近的三数之和<span>"
   ]
  },
  {
   "cell_type": "code",
   "execution_count": null,
   "metadata": {},
   "outputs": [],
   "source": [
    "class Solution:\n",
    "    def threeSumClosest(self, nums: List[int], target: int) -> int:\n",
    "        n = len(nums)\n",
    "        nums.sort()\n",
    "        mindis = float('inf')\n",
    "        result = 0\n",
    "        for k in range(n):\n",
    "            if k > 0 and nums[k] == nums[k - 1]:\n",
    "                continue\n",
    "\n",
    "            i, j = k + 1, n - 1\n",
    "            while i < j:\n",
    "                dis = nums[i] + nums[j] + nums[k] - target\n",
    "\n",
    "                if abs(dis) < mindis:\n",
    "                    mindis = abs(dis)\n",
    "                    result= nums[i] + nums[j] + nums[k]\n",
    "                \n",
    "                if dis == 0:\n",
    "                    return target\n",
    "                elif dis < 0:\n",
    "                    i += 1\n",
    "                    while i < j and nums[i] == nums[i - 1]:\n",
    "                        i += 1\n",
    "                else:\n",
    "                    j -= 1\n",
    "                    while i < j and nums[j] == nums[j + 1]:\n",
    "                        j -= 1\n",
    "\n",
    "        return result"
   ]
  },
  {
   "cell_type": "code",
   "execution_count": null,
   "metadata": {
    "vscode": {
     "languageId": "cpp"
    }
   },
   "outputs": [],
   "source": [
    "class Solution {\n",
    "public:\n",
    "    int threeSumClosest(vector<int>& nums, int target) {\n",
    "        sort(nums.begin(), nums.end());\n",
    "        int n = nums.size(), res = nums[0] + nums[1] + nums[2];\n",
    "        for (int i = 0; i < n; ++i){\n",
    "            int j = i + 1, k = n - 1;\n",
    "            while (j < k){\n",
    "                int t = nums[i] + nums[j] + nums[k];\n",
    "                if (t == target){return t;}\n",
    "                if (t < target){\n",
    "                    j += 1;\n",
    "                } else {\n",
    "                    k -= 1;\n",
    "                }\n",
    "                if (abs(target - t) < abs(target - res)){\n",
    "                    res = t;\n",
    "                }\n",
    "\n",
    "            }\n",
    "        }\n",
    "        return res;\n",
    "    }\n",
    "};"
   ]
  },
  {
   "cell_type": "markdown",
   "metadata": {},
   "source": [
    "### 18. <span id = \"18\">四数之和<span>\n",
    "\n",
    "剪枝操作不能和15题一样，因为本题目标值是任意的\n",
    "\n",
    "要判断最近的四个数之和是否大于目标值，如果是则不再存在解 nums[i] + nums[i + 1] + nums[i + 2] + nums[i + 3] > target\n",
    "\n",
    "或者与末尾的三个数之和是否小于目标值，如果是则i应该前进 nums[i] + nums[n - 3] + nums[n - 2] + nums[n - 1] < target\n"
   ]
  },
  {
   "cell_type": "code",
   "execution_count": null,
   "metadata": {},
   "outputs": [],
   "source": [
    "class Solution:\n",
    "    def fourSum(self, nums: List[int], target: int) -> List[List[int]]:\n",
    "        n = len(nums)\n",
    "        nums.sort()\n",
    "        results = []\n",
    "\n",
    "        for i in range(n - 3):\n",
    "            \n",
    "            if nums[i] + nums[i + 1] + nums[i + 2] + nums[i + 3] > target:\n",
    "                break\n",
    "            if nums[i] + nums[n - 3] + nums[n - 2] + nums[n - 1] < target:\n",
    "                continue\n",
    "\n",
    "            if i > 0 and nums[i] == nums[i - 1]:\n",
    "                continue\n",
    "            \n",
    "            for j in range(i + 1, n - 2):\n",
    "                \n",
    "                if nums[i] + nums[j] + nums[j + 1] + nums[j + 2] > target:\n",
    "                    break\n",
    "                if nums[i] + nums[j] + nums[n - 2] + nums[n - 1] < target:\n",
    "                    continue\n",
    "\n",
    "                if j > i + 1 and nums[j] == nums[j - 1]:\n",
    "                    continue\n",
    "\n",
    "                k, l = j + 1, n - 1\n",
    "                \n",
    "                while k < l:\n",
    "                    total = nums[i] + nums[j] + nums[k] + nums[l]\n",
    "                    if total == target:\n",
    "                        results.append([nums[i], nums[j], nums[k], nums[l]])\n",
    "                        k += 1\n",
    "                        l -= 1\n",
    "                        while k < l and nums[k] == nums[k - 1]:\n",
    "                            k += 1\n",
    "                        while k < l and nums[l] == nums[l + 1]:\n",
    "                            l -= 1\n",
    "                    elif total < target:\n",
    "                        k += 1\n",
    "                        while k < l and nums[k] == nums[k - 1]:\n",
    "                            k += 1\n",
    "                    else:\n",
    "                        l -= 1\n",
    "                        while k < l and nums[l] == nums[l + 1]:\n",
    "                            l -= 1\n",
    "        return results"
   ]
  },
  {
   "cell_type": "code",
   "execution_count": null,
   "metadata": {
    "vscode": {
     "languageId": "cpp"
    }
   },
   "outputs": [],
   "source": [
    "class Solution {\n",
    "public:\n",
    "    vector<vector<int>> fourSum(vector<int>& nums, int target) {\n",
    "        int n = nums.size();\n",
    "        sort(nums.begin(), nums.end());\n",
    "        vector<vector<int>> results;\n",
    "\n",
    "        for (int i = 0; i < n; ++i){\n",
    "            if (i > 0 && nums[i] == nums[i - 1]){continue;}\n",
    "            for (int j = i + 1; j < n; ++j){\n",
    "                if (j > i + 1 && nums[j] == nums[j - 1]){continue;}\n",
    "\n",
    "                int k = j + 1, l = n - 1;\n",
    "                while (k < l){\n",
    "                    long total = (long)nums[i] + nums[j] + nums[k] + nums[l];\n",
    "                    if (total == target){\n",
    "                        results.push_back({nums[i], nums[j], nums[k], nums[l]});\n",
    "                        k += 1;\n",
    "                        l -= 1;\n",
    "                        while (k < l && nums[k] == nums[k - 1]){k += 1;}\n",
    "                        while (l > k && nums[l] == nums[l + 1]){l -= 1;}\n",
    "                    } else if (total < target){\n",
    "                        k += 1;\n",
    "                    } else {\n",
    "                        l -= 1;\n",
    "                    }\n",
    "                }\n",
    "\n",
    "            }\n",
    "        }\n",
    "        return results;\n",
    "    }\n",
    "};"
   ]
  },
  {
   "cell_type": "markdown",
   "metadata": {},
   "source": [
    "### 19. <span id = \"19\">删除链表的倒数第 N 个结点<span>\n",
    "\n",
    "经典快慢指针\n"
   ]
  },
  {
   "cell_type": "code",
   "execution_count": null,
   "metadata": {},
   "outputs": [],
   "source": [
    "class Solution:\n",
    "    def removeNthFromEnd(self, head: Optional[ListNode], n: int) -> Optional[ListNode]:\n",
    "        dummy = ListNode(0, head)\n",
    "        fast = head\n",
    "        slow = dummy\n",
    "        for _ in range(n):\n",
    "            fast = fast.next\n",
    "\n",
    "        while fast:\n",
    "            slow = slow.next\n",
    "            fast = fast.next\n",
    "        \n",
    "        slow.next = slow.next.next\n",
    "        return dummy.next"
   ]
  },
  {
   "cell_type": "code",
   "execution_count": null,
   "metadata": {
    "vscode": {
     "languageId": "cpp"
    }
   },
   "outputs": [],
   "source": [
    "class Solution {\n",
    "public:\n",
    "    ListNode* removeNthFromEnd(ListNode* head, int n) {\n",
    "        ListNode* dummy = new ListNode(0, head);\n",
    "        ListNode* fast = head;\n",
    "        ListNode* slow = dummy;\n",
    "        for (int i = 0; i < n; ++i){\n",
    "            fast = fast->next;\n",
    "        }\n",
    "        while (fast){\n",
    "            fast = fast->next;\n",
    "            slow = slow->next;\n",
    "        }\n",
    "        slow->next = slow->next->next;\n",
    "        ListNode* ans = dummy->next;\n",
    "        delete dummy;\n",
    "        return ans;\n",
    "    }\n",
    "};"
   ]
  },
  {
   "cell_type": "markdown",
   "metadata": {},
   "source": [
    "### 21. <span id = \"21\">合并两个有序链表<span>\n",
    "\n",
    "迭代形式，还可以用递归"
   ]
  },
  {
   "cell_type": "code",
   "execution_count": null,
   "metadata": {},
   "outputs": [],
   "source": [
    "class Solution:\n",
    "    def mergeTwoLists(self, list1: Optional[ListNode], list2: Optional[ListNode]) -> Optional[ListNode]:\n",
    "        head = dummy = ListNode()\n",
    "        while list1 and list2:\n",
    "            if list1.val < list2.val:\n",
    "                head.next = list1\n",
    "                list1 = list1.next\n",
    "            else:\n",
    "                head.next = list2\n",
    "                list2 = list2.next\n",
    "            head = head.next\n",
    "        head.next = list1 if list1 else list2\n",
    "        return dummy.next"
   ]
  },
  {
   "cell_type": "code",
   "execution_count": null,
   "metadata": {
    "vscode": {
     "languageId": "cpp"
    }
   },
   "outputs": [],
   "source": [
    "class Solution {\n",
    "public:\n",
    "    ListNode* mergeTwoLists(ListNode* list1, ListNode* list2) {\n",
    "        ListNode* dummy = new ListNode(0);\n",
    "        ListNode* head = dummy;\n",
    "\n",
    "        while (list1 && list2){\n",
    "            if (list1->val < list2->val){\n",
    "                head->next = list1;\n",
    "                list1 = list1->next;\n",
    "            } else{\n",
    "                head->next = list2;\n",
    "                list2 = list2->next;\n",
    "            }\n",
    "            head = head->next;\n",
    "        }\n",
    "        head->next = list1 ? list1 : list2;\n",
    "\n",
    "        ListNode* ans = dummy->next;\n",
    "        delete dummy;\n",
    "        return ans;\n",
    "    }\n",
    "};"
   ]
  },
  {
   "cell_type": "markdown",
   "metadata": {},
   "source": [
    "### 23. <span id = \"23\">合并K个升序链表<span>\n",
    "\n",
    "链表长n，共有k个链表\n",
    "\n",
    "常规思路是最小的头结点，时间复杂度是O(k)，总时间为O(kn*k)\n",
    "\n",
    "相当于指针遍历，非常慢，需要用堆或者二分法进行优化"
   ]
  },
  {
   "cell_type": "code",
   "execution_count": null,
   "metadata": {},
   "outputs": [],
   "source": [
    "class Solution:\n",
    "    def mergeKLists(self, lists: List[Optional[ListNode]]) -> Optional[ListNode]:\n",
    "        def minIndex(lists):\n",
    "            minVal = float('inf')\n",
    "            minIdx = None\n",
    "            for idx, head in enumerate(lists):\n",
    "                if head and head.val < minVal:\n",
    "                    minVal = head.val\n",
    "                    minIdx = idx\n",
    "            if minIdx is not None:\n",
    "                tmp = lists[minIdx]\n",
    "                lists[minIdx] = lists[minIdx].next\n",
    "                return tmp\n",
    "            else:\n",
    "                return None\n",
    "\n",
    "        head = dummy = ListNode()\n",
    "        while True:\n",
    "            head.next = minIndex(lists)\n",
    "            head = head.next\n",
    "            if not head:\n",
    "                break\n",
    "        return dummy.next"
   ]
  },
  {
   "cell_type": "markdown",
   "metadata": {},
   "source": [
    "### 24. <span id = \"24\">两两交换链表中的节点<span>"
   ]
  },
  {
   "cell_type": "code",
   "execution_count": null,
   "metadata": {},
   "outputs": [],
   "source": [
    "class Solution:\n",
    "    def swapPairs(self, head: Optional[ListNode]) -> Optional[ListNode]:\n",
    "        def reverse(pre):\n",
    "            tmp = pre.next\n",
    "            pre.next = pre.next.next\n",
    "            tmp.next = pre.next.next\n",
    "            pre.next.next = tmp\n",
    "            return tmp\n",
    "\n",
    "        tmp = dummy = ListNode(0, head)\n",
    "        \n",
    "        while tmp and tmp.next and tmp.next.next:\n",
    "            tmp = reverse(tmp)\n",
    "        return dummy.next"
   ]
  },
  {
   "cell_type": "markdown",
   "metadata": {},
   "source": [
    "### 25. <span id = \"25\">K 个一组翻转链表<span>\n",
    "\n",
    "翻转k个元素，只需要翻转k-1次\n",
    "\n",
    "翻转冗余的地方在于，如果初始prev就指向末尾元素之后的链表，那么正好操作k次就好\n",
    "\n",
    "而下面的做法prev指向head，操作k-1次之后，还需要把末尾元素之后的链表拼接在开始head的后面，需要一直保留head\n",
    "\n",
    "实际上第一步就可以做这件事情\n",
    "\n",
    "prev，head，temp 依次前进，head 可以不保留"
   ]
  },
  {
   "cell_type": "code",
   "execution_count": null,
   "metadata": {},
   "outputs": [],
   "source": [
    "\n",
    "'''\n",
    "|——————————|       |——————————|       |——————————|       |——————————|       |——————————|\n",
    "|          |-------|→   1     |-------|→   2     |-------|→   3     |-------|→   4     |------→None\n",
    "|——————————|       |——————————|       |——————————|       |——————————|       |——————————|\n",
    "                        ↑head              ↑temp              ↑prev\n",
    "\n",
    "\n",
    "                        |——————————————————————————————————————\n",
    "                        |                                     ↓\n",
    "|——————————|       |——————————|       |——————————|       |——————————|       |——————————|\n",
    "|          |-------|→   1     |       |    2     |-------|→   3     |-------|→   4     |------→None\n",
    "|——————————|       |——————————|       |——————————|       |——————————|       |——————————|\n",
    "                        ↑prev              ↑head              ↑temp              \n",
    "\n",
    "\n",
    "                        |——————————————————————————————————————\n",
    "                        |                                     ↓\n",
    "|——————————|       |——————————|       |——————————|       |——————————|       |——————————|\n",
    "|          |-------|→   1    ←|-------|    2     |       |    3     |-------|→   4     |------→None\n",
    "|——————————|       |——————————|       |——————————|       |——————————|       |——————————|\n",
    "                                           ↑prev              ↑head              ↑temp     \n",
    "\n",
    "上面是k=2的情况，然后将prev的指针返回，替换传入的dummy的next\n",
    "\n",
    "                        |——————————————————————————————————————\n",
    "                        |                                     ↓\n",
    "|——————————|       |——————————|       |——————————|       |——————————|       |——————————|\n",
    "|          |       |    1    ←|-------|    2     |       |    3     |-------|→   4     |------→None\n",
    "|——————————|       |——————————|       |——————————|       |——————————|       |——————————|\n",
    "      |                                      ↑prev              ↑head              ↑temp \n",
    "      |——————————————————————————————————————|\n",
    "'''\n",
    "\n",
    "\n",
    "class Solution:\n",
    "    def reverseKGroup(self, head: Optional[ListNode], k: int) -> Optional[ListNode]:\n",
    "        def reverse(head):\n",
    "            prev = head\n",
    "            curr = head.next\n",
    "            for _ in range(k - 1):\n",
    "                temp = curr.next\n",
    "                curr.next = prev\n",
    "                prev = curr\n",
    "                curr = temp\n",
    "            head.next = curr\n",
    "            return prev\n",
    "\n",
    "        prev = dummy = ListNode(0, head)\n",
    "        while prev:\n",
    "            head = prev\n",
    "            for _ in range(k):\n",
    "                head = head.next\n",
    "                if not head:\n",
    "                    return dummy.next\n",
    "            temp = prev.next\n",
    "            prev.next = reverse(prev.next)\n",
    "            prev = temp\n",
    "        return dummy.next"
   ]
  },
  {
   "cell_type": "markdown",
   "metadata": {},
   "source": [
    "### 26. <span id = \"26\">删除有序数组中的重复项<span>\n",
    "\n",
    "判断条件的时候，不同再操作比起相同情况下前进fast指针，代码会更加简洁。"
   ]
  },
  {
   "cell_type": "code",
   "execution_count": null,
   "metadata": {},
   "outputs": [],
   "source": [
    "class Solution:\n",
    "    def removeDuplicates(self, nums: List[int]) -> int:\n",
    "        slow = fast = 1\n",
    "        while fast < len(nums):\n",
    "            if nums[fast] != nums[slow - 1]:\n",
    "                nums[slow] = nums[fast]\n",
    "                slow += 1\n",
    "            fast += 1\n",
    "        return slow"
   ]
  },
  {
   "cell_type": "markdown",
   "metadata": {},
   "source": [
    "### 27. <span id = \"27\">移除元素<span>"
   ]
  },
  {
   "cell_type": "code",
   "execution_count": null,
   "metadata": {},
   "outputs": [],
   "source": [
    "class Solution:\n",
    "    def removeElement(self, nums: List[int], val: int) -> int:\n",
    "        slow = fast = 0\n",
    "        while fast < len(nums):\n",
    "            if nums[fast] != val:\n",
    "                nums[slow] = nums[fast]\n",
    "                slow += 1\n",
    "            fast += 1\n",
    "        return slow"
   ]
  },
  {
   "cell_type": "markdown",
   "metadata": {},
   "source": [
    "### 30. <span id = \"30\">串联所有单词的子串<span>\n",
    "\n",
    "无重复字串的进阶版本，维护一个哈希表存储窗口里的所有单词，当出现不需要的单词left前进到curr的下一个单词位置\n",
    "\n",
    "当所需单词数超了的时候，移动left直到单词数不再超过\n",
    "\n",
    "初始化起点的时候只需要遍历单词的长度即可，因为步长是固定的，超过单词长度就是重复的了\n",
    "\n",
    "right指针当剩余长度不够所有单词总长的时候可以提前结束，去掉right指针也可以"
   ]
  },
  {
   "cell_type": "code",
   "execution_count": null,
   "metadata": {},
   "outputs": [],
   "source": [
    "class Solution:\n",
    "    def findSubstring(self, s: str, words: List[str]) -> List[int]:\n",
    "        wordsNums = len(words)\n",
    "        wordsLens = len(words[0])\n",
    "        sLength = len(s)\n",
    "        result = []\n",
    "        Hashmap = defaultdict(int)\n",
    "        for word in words:\n",
    "            Hashmap[word] += 1\n",
    "\n",
    "        for startPos in range(wordsLens):\n",
    "            left = curr = startPos\n",
    "            right = left + wordsNums * wordsLens\n",
    "            currHashmap = defaultdict(int)\n",
    "            while right <= sLength:\n",
    "                currWord = s[curr:curr + wordsLens]\n",
    "                if currWord in Hashmap:\n",
    "                    currHashmap[currWord] += 1\n",
    "                    while currHashmap[currWord] > Hashmap[currWord]:\n",
    "                        currHashmap[s[left:left + wordsLens]] -= 1\n",
    "                        left += wordsLens\n",
    "                        right += wordsLens\n",
    "                else:\n",
    "                    left = curr + wordsLens\n",
    "                    right = left + wordsNums * wordsLens\n",
    "                    currHashmap.clear()\n",
    "                \n",
    "                curr += wordsLens\n",
    "                if currHashmap == Hashmap:\n",
    "                    result.append(left)\n",
    "        \n",
    "        return result"
   ]
  },
  {
   "cell_type": "markdown",
   "metadata": {},
   "source": [
    "### 32. <span id = \"32\">最长有效括号<span>"
   ]
  },
  {
   "cell_type": "code",
   "execution_count": null,
   "metadata": {},
   "outputs": [],
   "source": [
    "class Solution:\n",
    "    def longestValidParentheses(self, s: str) -> int:\n",
    "        left = right = res = 0\n",
    "        for ch in s:\n",
    "            if ch == '(':\n",
    "                left += 1\n",
    "            else:\n",
    "                right += 1\n",
    "            if left == right:\n",
    "                res = max(res, left + right)\n",
    "            if right > left:\n",
    "                left = right = 0\n",
    "\n",
    "        left = right = 0\n",
    "        for ch in s[::-1]:\n",
    "            if ch == ')':\n",
    "                right += 1\n",
    "            else:\n",
    "                left += 1\n",
    "            if right == left:\n",
    "                res = max(res, left + right)\n",
    "            if left > right:\n",
    "                left = right = 0\n",
    "        return res\n",
    "            "
   ]
  },
  {
   "cell_type": "markdown",
   "metadata": {},
   "source": [
    "### 42. <span id = \"42\">接雨水<span>\n",
    "\n",
    "左右指针遍历，移动较小的一个，因为较小的决定上限，即当前较小的左右边界的最大值已经确定了，不会变的更大，能装的雨水量也就能计算了。\n"
   ]
  },
  {
   "cell_type": "code",
   "execution_count": null,
   "metadata": {},
   "outputs": [],
   "source": [
    "class Solution:\n",
    "    def trap(self, height: List[int]) -> int: \n",
    "        i, j = 0, len(height) - 1\n",
    "        leftMax, rightMax = height[i], height[j]\n",
    "        res = 0\n",
    "        while i < j:\n",
    "            if height[i] < height[j]:\n",
    "                res += min(leftMax, rightMax) - height[i]\n",
    "                i += 1\n",
    "                leftMax = max(height[i], leftMax)\n",
    "            else:\n",
    "                res += min(leftMax, rightMax) - height[j]\n",
    "                j -= 1\n",
    "                rightMax = max(height[j], rightMax)\n",
    "        return res "
   ]
  },
  {
   "cell_type": "markdown",
   "metadata": {},
   "source": [
    "### 61. <span id = \"61\">旋转链表<span>\n",
    "\n",
    "快慢指针实际有些浪费，因为必须要遍历两次，找到末尾是直接连接head，形成一个闭环，再去接着找断开的位置即可\n"
   ]
  },
  {
   "cell_type": "code",
   "execution_count": null,
   "metadata": {},
   "outputs": [],
   "source": [
    "class Solution:\n",
    "    def rotateRight(self, head: Optional[ListNode], k: int) -> Optional[ListNode]:\n",
    "        dummy = ListNode(0, head)\n",
    "        n, tmp = 0, head\n",
    "        while tmp:\n",
    "            tmp = tmp.next\n",
    "            n += 1\n",
    "        \n",
    "        k = k % n if n else 0\n",
    "        if k > 0:\n",
    "            slow = fast = dummy\n",
    "            for _ in range(k):\n",
    "                fast = fast.next\n",
    "\n",
    "            while fast.next:\n",
    "                fast = fast.next\n",
    "                slow = slow.next\n",
    "            \n",
    "            head = slow.next\n",
    "            fast.next = dummy.next\n",
    "            slow.next = None\n",
    "        return head"
   ]
  },
  {
   "cell_type": "markdown",
   "metadata": {},
   "source": [
    "### 75. <span id = \"75\">颜色分类<span>"
   ]
  },
  {
   "cell_type": "code",
   "execution_count": null,
   "metadata": {},
   "outputs": [],
   "source": [
    "class Solution:\n",
    "    def sortColors(self, nums: List[int]) -> None:\n",
    "        def quck_sort(left, right):\n",
    "            if left >= right:\n",
    "                return \n",
    "\n",
    "            i, j, pivot = left, right, nums[left]\n",
    "            while i < j:\n",
    "                while i < j and nums[j] >= pivot:\n",
    "                    j -= 1\n",
    "                nums[i] = nums[j]\n",
    "                while i < j and nums[i] <= pivot:\n",
    "                    i += 1\n",
    "                nums[j] = nums[i]\n",
    "            nums[j] = pivot\n",
    "            quck_sort(left, i - 1)\n",
    "            quck_sort(i + 1, right)\n",
    "        \n",
    "        quck_sort(0, len(nums) - 1)\n",
    "\n",
    "    \n"
   ]
  }
 ],
 "metadata": {
  "kernelspec": {
   "display_name": "Python 3.9.6 64-bit",
   "language": "python",
   "name": "python3"
  },
  "language_info": {
   "codemirror_mode": {
    "name": "ipython",
    "version": 3
   },
   "file_extension": ".py",
   "mimetype": "text/x-python",
   "name": "python",
   "nbconvert_exporter": "python",
   "pygments_lexer": "ipython3",
   "version": "3.9.6"
  },
  "orig_nbformat": 4,
  "vscode": {
   "interpreter": {
    "hash": "1aec40e0cc8dcd72ae861723d928da7f867ad57df585952e683e938264a3f0b6"
   }
  }
 },
 "nbformat": 4,
 "nbformat_minor": 2
}
