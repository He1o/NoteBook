{
 "cells": [
  {
   "cell_type": "markdown",
   "metadata": {},
   "source": [
    "# 哈希表方法\n",
    "\n",
    "#### 1. Str \n",
    "\n",
    "-  [LeetCode](https://leetcode.cn/problems/longest-substring-without-repeating-characters/)  [| 3. 无重复字符的最长子串](#3) \n",
    "\n",
    "#### 2. List \n",
    "\n",
    "-  [LeetCode](https://leetcode.cn/problems/two-sum/)  [| 1. 两数之和](#1) \n",
    "-  [LeetCode](https://leetcode.cn/problems/valid-sudoku/solution/)  [| 36. 有效的数独](#36) \n",
    "-  [LeetCode](https://leetcode.cn/problems/group-anagrams/)  [| 49. 字母异位词分组](#49) \n",
    "\n",
    "#### 3. Linked \n",
    "\n",
    "#### 4. Tree \n",
    "\n",
    "#### 5. Graph \n"
   ]
  },
  {
   "cell_type": "markdown",
   "metadata": {},
   "source": [
    "### 1. <span id = \"1\">两数之和<span>\n",
    "\n",
    "给定一个目标值，判断数组中是否有两个数之和是该值，不能重复使用。\n",
    "\n",
    "1. 先判断差值是否存在，然后再在哈希表中插入当前值就可以防止重复与替换\n",
    "2. 看到一年前的代码还不会用 enumerate --！\n",
    "\n"
   ]
  },
  {
   "cell_type": "code",
   "execution_count": null,
   "metadata": {},
   "outputs": [],
   "source": [
    "class Solution:\n",
    "    def twoSum(self, nums: List[int], target: int) -> List[int]:\n",
    "        hashmap = {}\n",
    "        for i, n in enumerate(nums):\n",
    "            if target - n in hashmap:\n",
    "                return [i, hashmap[target - n]]\n",
    "            hashmap[n] = i\n",
    "        return []"
   ]
  },
  {
   "cell_type": "code",
   "execution_count": null,
   "metadata": {
    "vscode": {
     "languageId": "cpp"
    }
   },
   "outputs": [],
   "source": [
    "class Solution {\n",
    "public:\n",
    "    vector<int> twoSum(vector<int>& nums, int target) {\n",
    "        unordered_map<int, int> hashtable;\n",
    "        for (int i = 0; i < nums.size(); i++){\n",
    "            auto tmp = hashtable.find(nums[i]);\n",
    "            if (tmp != hashtable.end()){\n",
    "                return {tmp->second, i};\n",
    "            }\n",
    "            else{\n",
    "                hashtable[target - nums[i]] = i;\n",
    "            }\n",
    "        }\n",
    "        return {};\n",
    "    }\n",
    "};"
   ]
  },
  {
   "cell_type": "markdown",
   "metadata": {},
   "source": [
    "### 3. <span id = \"3\">无重复字符的最长子串<span>\n",
    "\n",
    "给定一个字符串，找出其中不含有重复字符的最长子串的长度。\n",
    "\n",
    "1. 双指针+哈希表\n",
    "2. 右指针一直右移，左指针指在不重复子串开始的位置\n",
    "3. 左指针更新的时候与重复位置比较大小取大值，其实就是分重复位置在左指针之前还是之后。（重要）"
   ]
  },
  {
   "cell_type": "code",
   "execution_count": null,
   "metadata": {},
   "outputs": [],
   "source": [
    "class Solution:\n",
    "    def lengthOfLongestSubstring(self, s: str) -> int:\n",
    "        hashmap = {}\n",
    "        result = j = 0\n",
    "        for i, ch in enumerate(s):\n",
    "            if ch in hashmap:\n",
    "                j = max(j, hashmap[ch] + 1)\n",
    "            result = max(result, i - j + 1)\n",
    "            hashmap[ch] = i\n",
    "        return result"
   ]
  },
  {
   "cell_type": "code",
   "execution_count": null,
   "metadata": {},
   "outputs": [],
   "source": [
    "class Solution {\n",
    "public:\n",
    "    int lengthOfLongestSubstring(string s) {\n",
    "        unordered_map<char, int> harshtable;\n",
    "        int result = 0;\n",
    "        int j = 0;\n",
    "        for (int i = 0; i < s.size(); i++){\n",
    "            if (harshtable.find(s[i]) != harshtable.end()){\n",
    "                j = max(j, harshtable[s[i]] + 1);\n",
    "            }\n",
    "            result = max(result, i - j + 1);\n",
    "            harshtable[s[i]] = i;\n",
    "        }\n",
    "        return result;\n",
    "    }\n",
    "};"
   ]
  },
  {
   "cell_type": "markdown",
   "metadata": {},
   "source": [
    "### 36. <span id = \"3\">有效的数独<span>\n",
    "\n",
    "注意 [[]] * n 中的数组是引用赋值，并没有生成多个数组。 "
   ]
  },
  {
   "cell_type": "code",
   "execution_count": null,
   "metadata": {},
   "outputs": [],
   "source": [
    "class Solution:\n",
    "    def isValidSudoku(self, board: List[List[str]]) -> bool:\n",
    "        rows = [defaultdict(int) for _ in range(9)]\n",
    "        cols = [defaultdict(int) for _ in range(9)]\n",
    "        mtrs = [defaultdict(int) for _ in range(9)]\n",
    "\n",
    "        for i in range(len(board)):\n",
    "            for j in range(len(board[0])):\n",
    "                num = board[i][j]\n",
    "                if num.isdigit():\n",
    "                    rows[i][num] += 1\n",
    "                    cols[j][num] += 1\n",
    "                    mtrs[(i // 3) * 3 + (j // 3)][num] += 1\n",
    "                    \n",
    "                    if rows[i][num] > 1 or cols[j][num] > 1 or mtrs[(i // 3) * 3 + (j // 3)][num] > 1:\n",
    "                        return False\n",
    "        return True"
   ]
  },
  {
   "cell_type": "markdown",
   "metadata": {},
   "source": [
    "### 49. <span id = \"3\">字母异位词分组<span>\n",
    "\n",
    "计数可以实现，或者排序也可以"
   ]
  },
  {
   "cell_type": "code",
   "execution_count": null,
   "metadata": {},
   "outputs": [],
   "source": [
    "class Solution:\n",
    "    def groupAnagrams(self, strs: List[str]) -> List[List[str]]:\n",
    "        words = defaultdict(list)\n",
    "        for word in strs:\n",
    "            table = [0] * 26\n",
    "            for ch in word:\n",
    "                table[ord(ch) - ord('a')] += 1\n",
    "            words[tuple(table)].append(word)\n",
    "        return list(words.values())\n",
    "\n",
    "class Solution:\n",
    "    def groupAnagrams(self, strs: List[str]) -> List[List[str]]:\n",
    "        words = defaultdict(list)\n",
    "        for word in strs:\n",
    "            words[''.join(sorted(word))].append(word)\n",
    "        return list(words.values())"
   ]
  }
 ],
 "metadata": {
  "kernelspec": {
   "display_name": "Python 3.9.6 64-bit",
   "language": "python",
   "name": "python3"
  },
  "language_info": {
   "codemirror_mode": {
    "name": "ipython",
    "version": 3
   },
   "file_extension": ".py",
   "mimetype": "text/x-python",
   "name": "python",
   "nbconvert_exporter": "python",
   "pygments_lexer": "ipython3",
   "version": "3.9.6"
  },
  "orig_nbformat": 4,
  "vscode": {
   "interpreter": {
    "hash": "1aec40e0cc8dcd72ae861723d928da7f867ad57df585952e683e938264a3f0b6"
   }
  }
 },
 "nbformat": 4,
 "nbformat_minor": 2
}
