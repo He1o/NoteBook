{
 "cells": [
  {
   "cell_type": "markdown",
   "metadata": {},
   "source": [
    "# 数学\n",
    "\n",
    "\n",
    "\n",
    "#### 1. Str \n",
    "-  [LeetCode](https://leetcode.cn/problems/zigzag-conversion/)  [| 6. Z 字形变换](#6) \n",
    "\n",
    "#### 2. List \n",
    "-  [LeetCode](https://leetcode.cn/problems/next-permutation/)  [| 31. 下一个排列](#31) \n",
    "-  [LeetCode](https://leetcode.cn/problems/merge-intervals/)  [| 56. 合并区间](#56) \n",
    "-  [LeetCode](https://leetcode.cn/problems/permutation-sequence/)  [| 60. 排列序列](#60) \n",
    "-  [LeetCode](https://leetcode.cn/problems/plus-one/)  [| 66. 加一](#66) \n",
    "\n",
    "#### 3. Linked \n",
    "\n",
    "#### 4. Tree \n",
    "\n",
    "#### 5. Graph \n",
    "-  [LeetCode](https://leetcode.cn/problems/unique-paths/)  [| 62. 不同路径](#62) \n",
    "\n",
    "#### 6. Num\n",
    "-  [LeetCode](https://leetcode.cn/problems/reverse-integer/)  [| 7. 整数反转](#7) \n",
    "-  [LeetCode](https://leetcode.cn/problems/palindrome-number/)  [| 9. 回文数](#9) \n",
    "-  [LeetCode](https://leetcode.cn/problems/divide-two-integers/)  [| 29. 两数相除](#29) \n",
    "-  [LeetCode](https://leetcode.cn/problems/multiply-strings/)  [| 43. 字符串相乘](#43) \n",
    "-  [LeetCode](https://leetcode.cn/problems/powx-n/)  [| 50. Pow(x, n)](#50) \n",
    "-  [LeetCode](https://leetcode.cn/problems/sqrtx/)  [| 69. x 的平方根 ](#69) \n"
   ]
  },
  {
   "cell_type": "markdown",
   "metadata": {},
   "source": [
    "### 6. <span id = \"6\">Z 字形变换<span>\n",
    "\n",
    "把字符串转成横着的z字形，也就是翻转后的N字形\n",
    "\n",
    "推导转换前后的关系式\n",
    "\n",
    "字符串的长度是m， 转换后如果 一列的长度为 n，一个循环的长度是 t = 2n - 2\n",
    "\n",
    "循环的数量 k = ceil(m / (2n - 2))\n",
    "\n",
    "因此可以定位第i行第j个循环中的第一个元素为  j*t+i\n",
    "\n",
    "每个循环除了0，n-1的位置之外，其他行还有第二个字符对应关系是1，2n-2   2，2n-3   3，2n-4   也就是j，2n-j-1\n",
    "\n",
    "因此第二个元素 (j + 1) * t - i"
   ]
  },
  {
   "cell_type": "code",
   "execution_count": null,
   "metadata": {},
   "outputs": [],
   "source": [
    "class Solution:\n",
    "    def convert(self, s: str, numRows: int) -> str:\n",
    "        if numRows < 2:\n",
    "            return s\n",
    "        \n",
    "        n = len(s)\n",
    "        t = 2*numRows - 2\n",
    "        k = n // t + 1\n",
    "\n",
    "        result = ''\n",
    "        for i in range(numRows):\n",
    "            for j in range(k + 1):\n",
    "                if j * t + i < n:\n",
    "                    if i == 0 or i == numRows - 1:\n",
    "                        result += s[j * t + i]\n",
    "                    else:\n",
    "                        result += s[j * t + i]\n",
    "                        if (j + 1) * t - i < n:\n",
    "                            result += s[(j + 1) * t - i]\n",
    "        return result"
   ]
  },
  {
   "cell_type": "markdown",
   "metadata": {},
   "source": [
    "### 7. <span id = \"7\">整数反转<span>\n",
    "\n",
    "将一个32位的有符号整数进行反转，不能使用超过32位的整型。\n",
    "\n",
    "\n",
    "1. 需要在溢出之前判断大小，因此可以和 INT_MAX // 10 进行对比，由于输入保证满足要求，因此翻转后的最后一位一定小于等于2，那么也就在最后一位反转之前大于 214748364 才会溢出，当等于时最大也就是2147483642不会超过 INT_MAX = 2147483647\n",
    "2. python的余数始终大于等于0，当大于0时需要转化。"
   ]
  },
  {
   "cell_type": "code",
   "execution_count": null,
   "metadata": {},
   "outputs": [],
   "source": [
    "class Solution:\n",
    "    def reverse(self, x: int) -> int:\n",
    "        INT_MAX = 2**31 - 1\n",
    "        INT_MIN = -2**31\n",
    "\n",
    "        b = 0\n",
    "        og = x\n",
    "\n",
    "        while x:\n",
    "            if b > INT_MAX // 10:\n",
    "                return 0\n",
    "            \n",
    "            a = x % 10\n",
    "            if x < 0 and a > 0:\n",
    "                a = 10 - a\n",
    "                x = (x + a) // 10\n",
    "            else:\n",
    "                x = x // 10\n",
    "            \n",
    "            b = b * 10 + a\n",
    "\n",
    "        return b if og > 0 else -b\n",
    "\n",
    "    def reverse(self, x: int) -> int:\n",
    "        INT_MAX = 2**31 - 1\n",
    "        INT_MIN = -2**31\n",
    "\n",
    "        rev = 0\n",
    "\n",
    "        while x:\n",
    "            if rev > INT_MAX // 10 or rev < INT_MAX // 10 + 1:\n",
    "                return 0\n",
    "\n",
    "            digit = x % 10\n",
    "            if x < 0 and digit > 0:\n",
    "                digit -= 10\n",
    "            \n",
    "            x = (x - digit) // 10\n",
    "            rev = rev * 10 + digit\n",
    "\n",
    "        return rev"
   ]
  },
  {
   "cell_type": "code",
   "execution_count": null,
   "metadata": {
    "vscode": {
     "languageId": "cpp"
    }
   },
   "outputs": [],
   "source": [
    "class Solution {\n",
    "public:\n",
    "    int reverse(int x) {\n",
    "        int rev = 0;\n",
    "        while (x){\n",
    "            if (rev < INT_MIN / 10 || rev > INT_MAX / 10){\n",
    "                return 0;\n",
    "            }\n",
    "            rev = rev * 10 + x % 10;\n",
    "            x /= 10;\n",
    "        }\n",
    "        return rev;\n",
    "\n",
    "    }\n",
    "};"
   ]
  },
  {
   "cell_type": "markdown",
   "metadata": {},
   "source": [
    "### 9. <span id = \"9\">回文数<span>\n",
    "\n",
    "无需完全反转后判断，只需要翻转一半，判断剔除最后一位是否相等\n",
    "\n",
    "当原数字小于等于反转后的数字，意味着反转过半了"
   ]
  },
  {
   "cell_type": "code",
   "execution_count": null,
   "metadata": {},
   "outputs": [],
   "source": [
    "class Solution:\n",
    "    def isPalindrome(self, x: int) -> bool:\n",
    "        if x < 0:\n",
    "            return False\n",
    "        \n",
    "        b = 0\n",
    "        a = x\n",
    "        while a:\n",
    "            b = b * 10 + a % 10\n",
    "            a = a // 10\n",
    "\n",
    "        return b == x\n",
    "\n",
    "    def isPalindrome(self, x: int) -> bool:\n",
    "        if x < 0 or (x % 10 == 0 and x != 0):\n",
    "            return False\n",
    "        \n",
    "        b = 0\n",
    "        while x > b:\n",
    "            b = b * 10 + x % 10\n",
    "            x = x // 10\n",
    "\n",
    "        return b == x or b//10 == x"
   ]
  },
  {
   "cell_type": "code",
   "execution_count": null,
   "metadata": {
    "vscode": {
     "languageId": "cpp"
    }
   },
   "outputs": [],
   "source": [
    "class Solution {\n",
    "public:\n",
    "    bool isPalindrome(int x) {\n",
    "        if (x < 0 || (x % 10 == 0 && x != 0)){\n",
    "            return false;\n",
    "        }\n",
    "        int a = 0;\n",
    "        while (a < x){\n",
    "            a = a * 10 + x % 10;\n",
    "            x = x / 10;\n",
    "        }\n",
    "        return a == x || (a / 10) == x;\n",
    "\n",
    "    }\n",
    "};"
   ]
  },
  {
   "cell_type": "markdown",
   "metadata": {},
   "source": [
    "### 29. <span id = \"29\">两数相除<span>"
   ]
  },
  {
   "cell_type": "code",
   "execution_count": null,
   "metadata": {},
   "outputs": [],
   "source": [
    "class Solution:\n",
    "    def divide(self, dividend: int, divisor: int) -> int:\n",
    "        INT_MIN, INT_MAX = -2**31, 2**31 - 1\n",
    "\n",
    "        # 考虑被除数为最小值的情况\n",
    "        if dividend == INT_MIN:\n",
    "            if divisor == 1:\n",
    "                return INT_MIN\n",
    "            if divisor == -1:\n",
    "                return INT_MAX\n",
    "        \n",
    "        # 考虑除数为最小值的情况\n",
    "        if divisor == INT_MIN:\n",
    "            return 1 if dividend == INT_MIN else 0\n",
    "        # 考虑被除数为 0 的情况\n",
    "        if dividend == 0:\n",
    "            return 0\n",
    "\n",
    "\n",
    "\n",
    "        def div(a, b, i):\n",
    "            if a <= b:\n",
    "                remind, times = div(a, b + b, i + i)\n",
    "                if remind <= b:\n",
    "                    return remind - b, times + i\n",
    "                else:\n",
    "                    return remind, times\n",
    "            else:\n",
    "                return a, 0\n",
    "\n",
    "        flag = 0\n",
    "        if (dividend < 0 and divisor > 0) or (dividend > 0 and divisor < 0):\n",
    "            flag = 1\n",
    "                  \n",
    "        res = div(-abs(dividend), -abs(divisor), 1)[1]\n",
    "        return -res if flag else res"
   ]
  },
  {
   "cell_type": "markdown",
   "metadata": {},
   "source": [
    "### 31. <span id = \"31\">下一个排列<span>\n",
    "\n",
    "两遍遍历，均从左往右遍历，找到第一个右边存在比自己大的元素，交换这两个数\n",
    "\n",
    "交换后i右边的排列一定是降序的，因为交换前 j之后的数一定比i小（否则j之前就与i交换了），而j之前的数一定严格降序（否则i到达之前就找到满足条件的了）"
   ]
  },
  {
   "cell_type": "code",
   "execution_count": null,
   "metadata": {},
   "outputs": [],
   "source": [
    "class Solution:\n",
    "    def nextPermutation(self, nums: List[int]) -> None:\n",
    "        n = len(nums)\n",
    "        i = n - 1\n",
    "        while i >= 0:\n",
    "            for j in range(n - 1, i, -1):\n",
    "                if nums[i] < nums[j]:\n",
    "                    nums[i], nums[j] = nums[j], nums[i]\n",
    "                    left, right = i + 1, n - 1\n",
    "                    while left < right:\n",
    "                        nums[left], nums[right] = nums[right], nums[left]\n",
    "                        left += 1\n",
    "                        right -= 1\n",
    "                    \n",
    "                    return\n",
    "            i -= 1\n",
    "        nums.reverse()"
   ]
  },
  {
   "cell_type": "markdown",
   "metadata": {},
   "source": [
    "### 43. <span id = \"43\">字符串相乘<span>\n",
    "\n",
    "存完 res 记得翻转。"
   ]
  },
  {
   "cell_type": "code",
   "execution_count": null,
   "metadata": {},
   "outputs": [],
   "source": [
    "class Solution:\n",
    "    def multiply(self, num1: str, num2: str) -> str:\n",
    "        if num1 == '0' or num2 == '0':\n",
    "            return '0'\n",
    "        \n",
    "        def mul(num1, a):\n",
    "            carry = 0\n",
    "            res = ''\n",
    "            for i in range(len(num1) - 1, - 1, - 1):\n",
    "                num = int(num1[i]) * int(a) + carry\n",
    "                carry, curr = divmod(num, 10)\n",
    "                res += str(curr)\n",
    "            if carry: res += str(carry)\n",
    "            return res[::-1]\n",
    "        \n",
    "        result = []\n",
    "        for i in range(len(num2)):\n",
    "            res = mul(num1, num2[len(num2) - 1 - i])\n",
    "            result.append(res + '0' * i)\n",
    "\n",
    "        def dfs(i, j):\n",
    "            if i == j:\n",
    "                return result[i]\n",
    "\n",
    "            mid = (i + j) // 2\n",
    "            num1 = dfs(i, mid)[::-1]\n",
    "            num2 = dfs(mid + 1, j)[::-1]\n",
    "            carry = i = 0\n",
    "            res = ''\n",
    "            while i < len(num1) or i < len(num2) or carry:\n",
    "                a = int(num1[i]) if i < len(num1) else 0\n",
    "                b = int(num2[i]) if i < len(num2) else 0\n",
    "                carry, remind = divmod(a + b + carry, 10)\n",
    "                res += str(remind)\n",
    "                i += 1\n",
    "            return res[::-1]\n",
    "\n",
    "        return dfs(0, len(result) - 1)"
   ]
  },
  {
   "cell_type": "markdown",
   "metadata": {},
   "source": [
    "### 50. <span id = \"50\">Pow(x, n)<span>\n",
    "\n",
    "二分法的方式"
   ]
  },
  {
   "cell_type": "code",
   "execution_count": null,
   "metadata": {},
   "outputs": [],
   "source": [
    "class Solution:\n",
    "    def myPow(self, x: float, n: int) -> float:\n",
    "        def pow(N):\n",
    "            if N == 0:\n",
    "                return 1.0\n",
    "            y = pow(N // 2)\n",
    "            return y * y if N % 2 == 0 else y * y * x\n",
    "        \n",
    "        return pow(n) if n > 0 else 1 / pow(-n)"
   ]
  },
  {
   "cell_type": "markdown",
   "metadata": {},
   "source": [
    "### 56. <span id = \"56\">合并区间<span>\n",
    "\n",
    "先排序"
   ]
  },
  {
   "cell_type": "code",
   "execution_count": null,
   "metadata": {},
   "outputs": [],
   "source": [
    "class Solution:\n",
    "    def merge(self, intervals: List[List[int]]) -> List[List[int]]:\n",
    "        intervals.sort()\n",
    "        res = [intervals[0]]\n",
    "        for curr in intervals[1:]:\n",
    "            if curr[0] > res[-1][1]:\n",
    "                res.append(curr)\n",
    "            else:\n",
    "                res[-1][1] = max(res[-1][1], curr[1])\n",
    "        return res"
   ]
  },
  {
   "cell_type": "markdown",
   "metadata": {},
   "source": [
    "### 60. <span id = \"60\">排列序列<span>\n",
    "\n",
    "确定一个的时候，剩余的排列方式\n",
    "\n",
    "剩余0和剩余1的排列方式都为1\n",
    "\n",
    "[1, 1, 2, 6, 24]"
   ]
  },
  {
   "cell_type": "code",
   "execution_count": null,
   "metadata": {},
   "outputs": [],
   "source": [
    "class Solution:\n",
    "    def getPermutation(self, n: int, k: int) -> str:\n",
    "        fac = [1]\n",
    "        for i in range(1, n):\n",
    "            fac.append((fac[-1] * i))\n",
    "\n",
    "        nums = [False for x in range(n)]\n",
    "        res = []\n",
    "        divide = k - 1\n",
    "        for f in fac[::-1]:\n",
    "            remind = divide // f\n",
    "            idx = -1\n",
    "            while remind >= 0:\n",
    "                idx += 1\n",
    "                if nums[idx] == True:\n",
    "                    continue\n",
    "                remind -= 1\n",
    "            \n",
    "            nums[idx] = True\n",
    "            res.append(idx + 1)\n",
    "            divide = divide % f\n",
    "\n",
    "        return ''.join(str(x) for x in res)"
   ]
  },
  {
   "cell_type": "markdown",
   "metadata": {},
   "source": [
    "### 62. <span id = \"62\">不同路径<span>\n",
    "\n",
    "\n",
    "左上到右下共走 m+n-2，其中 m-1 是下移，排列组合即可\n",
    "\n",
    "math.comb(m + n - 2, n - 1)"
   ]
  },
  {
   "cell_type": "code",
   "execution_count": null,
   "metadata": {},
   "outputs": [],
   "source": [
    "class Solution:\n",
    "    def uniquePaths(self, m: int, n: int) -> int:\n",
    "        return comb(m + n - 2, n - 1)\n"
   ]
  },
  {
   "cell_type": "markdown",
   "metadata": {},
   "source": [
    "### 66. <span id = \"66\">加一<span>\n",
    "\n",
    "判断不为9的即可返回，当为9时赋值为0，进位一定是1"
   ]
  },
  {
   "cell_type": "code",
   "execution_count": null,
   "metadata": {},
   "outputs": [],
   "source": [
    "class Solution:\n",
    "    def plusOne(self, digits: List[int]) -> List[int]:\n",
    "        n = len(digits)\n",
    "        for i in range(n - 1, -1, -1):\n",
    "            if digits[i] != 9:\n",
    "                digits[i] += 1\n",
    "                return digits\n",
    "            else:\n",
    "                digits[i] = 0\n",
    "\n",
    "        return [1] + digits"
   ]
  },
  {
   "cell_type": "markdown",
   "metadata": {},
   "source": [
    "### 69. <span id = \"69\">x 的平方根 <span>\n",
    "\n",
    "牛顿迭代"
   ]
  },
  {
   "cell_type": "code",
   "execution_count": null,
   "metadata": {},
   "outputs": [],
   "source": [
    "class Solution:\n",
    "    def mySqrt(self, x: int) -> int:\n",
    "\n",
    "        a, pre = x, 0\n",
    "        while abs(pre - a) > 0.1:\n",
    "            pre = a\n",
    "            a -= (a * a - x) / (2 * a)\n",
    "        return int(a)"
   ]
  }
 ],
 "metadata": {
  "kernelspec": {
   "display_name": "Python 3.9.6 64-bit",
   "language": "python",
   "name": "python3"
  },
  "language_info": {
   "codemirror_mode": {
    "name": "ipython",
    "version": 3
   },
   "file_extension": ".py",
   "mimetype": "text/x-python",
   "name": "python",
   "nbconvert_exporter": "python",
   "pygments_lexer": "ipython3",
   "version": "3.9.6"
  },
  "orig_nbformat": 4,
  "vscode": {
   "interpreter": {
    "hash": "1aec40e0cc8dcd72ae861723d928da7f867ad57df585952e683e938264a3f0b6"
   }
  }
 },
 "nbformat": 4,
 "nbformat_minor": 2
}
