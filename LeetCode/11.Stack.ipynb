{
 "cells": [
  {
   "cell_type": "markdown",
   "metadata": {},
   "source": [
    "# 栈\n",
    "\n",
    "\n",
    "\n",
    "#### 1. Str \n",
    "-  [LeetCode](https://leetcode.cn/problems/valid-parentheses/)  [| 20. 有效的括号](#20) \n",
    "-  [LeetCode](https://leetcode.cn/problems/longest-valid-parentheses/)  [| 32. 最长有效括号](#32) \n",
    "-  [LeetCode](https://leetcode.cn/problems/simplify-path/)  [| 71. 简化路径](#71) \n",
    "\n",
    "#### 2. List \n",
    "-  [LeetCode](https://leetcode.cn/problems/trapping-rain-water/)  [| 42. 接雨水](#42) \n",
    "\n",
    "#### 3. Linked \n",
    "\n",
    "#### 4. Tree \n",
    "\n",
    "#### 5. Graph \n",
    "\n",
    "#### 6. Num\n"
   ]
  },
  {
   "cell_type": "markdown",
   "metadata": {},
   "source": [
    "### 20. <span id = \"20\">有效的括号<span>\n",
    "\n",
    "右括号不会加入到栈中，因此不需要判断stack.pop()在不在字典中\n",
    "\n",
    "防止stack为空，可以加入初始元素'?'\n",
    "\n",
    "最后还要判断stack是否长度为1，如果不是说明有多余的左括号"
   ]
  },
  {
   "cell_type": "code",
   "execution_count": null,
   "metadata": {},
   "outputs": [],
   "source": [
    "class Solution:\n",
    "    def isValid(self, s: str) -> bool:\n",
    "        table = {\n",
    "            '(': ')',\n",
    "            '[': ']',\n",
    "            '{': '}',\n",
    "            '?': '?'\n",
    "        }\n",
    "        stack = ['?']\n",
    "        for ch in s:\n",
    "            if ch in table:\n",
    "                stack.append(ch)\n",
    "            else:\n",
    "                if table[stack.pop()] != ch:\n",
    "                    return False\n",
    "        return len(stack) == 1"
   ]
  },
  {
   "cell_type": "code",
   "execution_count": null,
   "metadata": {
    "vscode": {
     "languageId": "cpp"
    }
   },
   "outputs": [],
   "source": [
    "unordered_map<char, char> table = {\n",
    "    {')', '('},\n",
    "    {']', '['},\n",
    "    {'}', '{'}\n",
    "};\n",
    "\n",
    "class Solution {\n",
    "public:\n",
    "    bool isValid(string s) {\n",
    "        stack<char> stk;\n",
    "        stk.push('0');\n",
    "        for (const char& ch : s ){\n",
    "            if (table[ch] == stk.top()){\n",
    "                stk.pop();\n",
    "            } else {\n",
    "                stk.push(ch);\n",
    "            }\n",
    "        }\n",
    "        return stk.top() == '0';\n",
    "    }\n",
    "};"
   ]
  },
  {
   "cell_type": "markdown",
   "metadata": {},
   "source": [
    "### 32. <span id = \"32\">最长有效括号<span>\n",
    "\n",
    "首先要明确一件事，只有左括号会放入到栈中，而右括号不会。\n",
    "\n",
    "栈顶元素始终是没有匹配的元素，也就是可以当做计算当前有效括号的起始位置\n",
    "\n",
    "初始放入索引-1，之后把左括号的索引放入栈中，当前为右括号时，直接从栈取出最后一个元素\n",
    "\n",
    "当栈为空时，意味着没有匹配相应的左括号，把当前索引放入栈充当一个标签\n",
    "\n",
    "当栈不为空，栈顶元素即为有效括号的起点  长度为idx - stack[-1]\n"
   ]
  },
  {
   "cell_type": "code",
   "execution_count": null,
   "metadata": {},
   "outputs": [],
   "source": [
    "class Solution:\n",
    "    def longestValidParentheses(self, s: str) -> int:\n",
    "        stack = [-1]\n",
    "        res = 0\n",
    "        for idx, ch in enumerate(s):\n",
    "            if ch == ')':\n",
    "                stack.pop()\n",
    "                if stack == []:\n",
    "                    stack = [idx]\n",
    "                else:\n",
    "                    res = max(res, idx - stack[-1])\n",
    "            else:\n",
    "                stack.append(idx)\n",
    "        return res"
   ]
  },
  {
   "cell_type": "markdown",
   "metadata": {},
   "source": [
    "### 42. <span id = \"42\">接雨水<span>\n",
    "\n",
    "类似于括号的方法，栈中只保留左括号也就是左边界，当高度是降序的就是左边界。\n",
    "\n",
    "取出栈顶元素后，新的栈顶元素就可以当做边界。然后计算体积即可。"
   ]
  },
  {
   "cell_type": "code",
   "execution_count": null,
   "metadata": {},
   "outputs": [],
   "source": [
    "class Solution:\n",
    "    def trap(self, height: List[int]) -> int:\n",
    "        stack = []\n",
    "        currvol = 0\n",
    "        for i in range(len(height)):\n",
    "            while stack and height[i] > height[stack[-1]]:\n",
    "                mid = stack.pop()\n",
    "                if not stack:\n",
    "                    break\n",
    "                currwidth = i - stack[-1] - 1\n",
    "                currheight = min(height[i], height[stack[-1]]) - height[mid]\n",
    "                currvol += currwidth * currheight\n",
    "            stack.append(i)\n",
    "        return currvol"
   ]
  },
  {
   "cell_type": "markdown",
   "metadata": {},
   "source": [
    "### 71. <span id = \"71\">简化路径<span>"
   ]
  },
  {
   "cell_type": "code",
   "execution_count": null,
   "metadata": {},
   "outputs": [],
   "source": [
    "class Solution:\n",
    "    def simplifyPath(self, path):\n",
    "        starck = []\n",
    "        for s in path.split('/'):\n",
    "            if s not in ['.', '..', '']:\n",
    "                starck.append(s)\n",
    "            elif s == '..' and starck:\n",
    "                starck.pop()\n",
    "        return '/' + '/'.join(starck)"
   ]
  }
 ],
 "metadata": {
  "kernelspec": {
   "display_name": "Python 3.9.6 64-bit",
   "language": "python",
   "name": "python3"
  },
  "language_info": {
   "name": "python",
   "version": "3.9.6"
  },
  "orig_nbformat": 4,
  "vscode": {
   "interpreter": {
    "hash": "1aec40e0cc8dcd72ae861723d928da7f867ad57df585952e683e938264a3f0b6"
   }
  }
 },
 "nbformat": 4,
 "nbformat_minor": 2
}
