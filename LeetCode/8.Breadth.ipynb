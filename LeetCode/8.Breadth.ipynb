{
 "cells": [
  {
   "cell_type": "markdown",
   "metadata": {},
   "source": [
    "# 广度优先\n",
    "\n",
    "\n",
    "\n",
    "#### 1. Str \n",
    "-  [LeetCode](https://leetcode.cn/problems/longest-common-prefix/)  [| 14. 最长公共前缀](#14) \n",
    "\n",
    "#### 2. List \n",
    "\n",
    "#### 3. Linked \n",
    "\n",
    "#### 4. Tree \n",
    "\n",
    "#### 5. Graph \n",
    "\n",
    "#### 6. Num\n"
   ]
  },
  {
   "cell_type": "markdown",
   "metadata": {},
   "source": [
    "### 14. <span id = \"14\">最长公共前缀<span>"
   ]
  },
  {
   "cell_type": "code",
   "execution_count": null,
   "metadata": {},
   "outputs": [],
   "source": [
    "class Solution:\n",
    "    def longestCommonPrefix(self, strs: List[str]) -> str:\n",
    "        if len(strs) == 1:\n",
    "            return strs[0]\n",
    "        \n",
    "        ans = ''\n",
    "        lens = [len(x) for x in strs]\n",
    "        for i in range(min(lens)):\n",
    "            for j in range(1, len(strs)):\n",
    "                if strs[j][i] != strs[j - 1][i]:\n",
    "                    return ans \n",
    "            else:\n",
    "                ans += strs[j][i]\n",
    "        return ans\n",
    "\n",
    "    def longestCommonPrefix(self, strs: List[str]) -> str:\n",
    "        # 通过zip进行组合\n",
    "        zips = zip(*strs)\n",
    "\n",
    "        res = ''\n",
    "        for x in zips:\n",
    "            if len(set(x)) == 1:\n",
    "                res += x[0]\n",
    "            else:\n",
    "                break\n",
    "        return res"
   ]
  },
  {
   "cell_type": "code",
   "execution_count": null,
   "metadata": {
    "vscode": {
     "languageId": "cpp"
    }
   },
   "outputs": [],
   "source": [
    "// 第一个0ms\n",
    "class Solution {\n",
    "public:\n",
    "    string longestCommonPrefix(vector<string>& strs) {\n",
    "        string &s = strs[0];\n",
    "        for (int i = 0; i < s.size(); ++i){\n",
    "            char ch = s[i];\n",
    "            for (int j = 1; j < strs.size(); ++j){\n",
    "                if (i >= strs[j].size() || strs[j][i] != ch){\n",
    "                    return s.substr(0, i);\n",
    "                }\n",
    "            }\n",
    "        }\n",
    "        return s;\n",
    "    }\n",
    "};"
   ]
  }
 ],
 "metadata": {
  "kernelspec": {
   "display_name": "Python 3.9.6 64-bit",
   "language": "python",
   "name": "python3"
  },
  "language_info": {
   "name": "python",
   "version": "3.9.6"
  },
  "orig_nbformat": 4,
  "vscode": {
   "interpreter": {
    "hash": "1aec40e0cc8dcd72ae861723d928da7f867ad57df585952e683e938264a3f0b6"
   }
  }
 },
 "nbformat": 4,
 "nbformat_minor": 2
}
