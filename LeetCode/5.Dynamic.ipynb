{
 "cells": [
  {
   "cell_type": "markdown",
   "metadata": {},
   "source": [
    "# 动态规划\n",
    "\n",
    "\n",
    "\n",
    "#### 1. Str \n",
    "-  [LeetCode](https://leetcode.cn/problems/longest-palindromic-substring/)  [| 5. 最长回文子串](#5) \n",
    "-  [LeetCode](https://leetcode.cn/problems/regular-expression-matching/)  [| 10. 正则表达式匹配](#10) \n",
    "-  [LeetCode](https://leetcode.cn/problems/longest-valid-parentheses/)  [| 32. 最长有效括号](#32) \n",
    "-  [LeetCode](https://leetcode.cn/problems/wildcard-matching/)  [| 44. 通配符匹配](#44) \n",
    "-  [LeetCode](https://leetcode.cn/problems/edit-distance/)  [| 72. 编辑距离](#72) \n",
    "\n",
    "#### 2. List \n",
    "-  [LeetCode](https://leetcode.cn/problems/trapping-rain-water/)  [| 42. 接雨水](#42) \n",
    "-  [LeetCode](https://leetcode.cn/problems/maximum-subarray/)  [| 53. 最大子数组和](#53) \n",
    "\n",
    "#### 3. Linked \n",
    "\n",
    "#### 4. Tree \n",
    "\n",
    "#### 5. Graph \n",
    "-  [LeetCode](https://leetcode.cn/problems/unique-paths/)  [| 62. 不同路径](#62) \n",
    "-  [LeetCode](https://leetcode.cn/problems/unique-paths-ii/submissions/)  [| 63. 不同路径 II](#63) \n",
    "-  [LeetCode](https://leetcode.cn/problems/minimum-path-sum/)  [| 64. 最小路径和](#64) \n",
    "\n",
    "#### 6. Num\n",
    "\n",
    "#### 7. Combination\n",
    "-  [LeetCode](https://leetcode.cn/problems/generate-parentheses/)  [| 22. 括号生成](#22) \n",
    "-  [LeetCode](https://leetcode.cn/problems/climbing-stairs/)  [| 70. 爬楼梯](#70) "
   ]
  },
  {
   "cell_type": "markdown",
   "metadata": {},
   "source": [
    "### 5. <span id = \"5\">最长回文子串<span>\n",
    "\n",
    "给你一个字符串 s，找到 s 中最长的回文子串。\n",
    "\n",
    "1. 定义状态，$dp[i][j]$ 表示从 $i$ 到 $j$ 是否是回文子串\n",
    "2. 状态转移方程 $dp[i][j] = (s[i] == s[j]) \\& dp[i + 1][j - 1]$\n",
    "3. 初始条件 $dp[i][i] = True$\n",
    "\n",
    "4. $i, j$ 无法依次遍历，对 L 进行遍历\n",
    "5. 时间复杂度和中心扩展法都是 $n^2$\n"
   ]
  },
  {
   "cell_type": "code",
   "execution_count": null,
   "metadata": {},
   "outputs": [],
   "source": [
    "class Solution:\n",
    "    def longestPalindrome(self, s: str) -> str:\n",
    "        if not s:\n",
    "            return ''\n",
    "        n = len(s)\n",
    "        dp = [[False] * n for _ in range(n)]\n",
    "\n",
    "        for i in range(n):\n",
    "            dp[i][i] = True\n",
    "        \n",
    "        maxLen = 1\n",
    "        begin = 0\n",
    "        for L in range(2, n + 1):\n",
    "            for i in range(n):\n",
    "                j = i + L - 1\n",
    "\n",
    "                if j >= n:\n",
    "                    break\n",
    "                \n",
    "                if L == 2:\n",
    "                    dp[i][j] = (s[i] == s[j])\n",
    "                else:\n",
    "                    dp[i][j] = (s[i] == s[j]) and dp[i + 1][j - 1]\n",
    "\n",
    "                if dp[i][j] and L > maxLen:\n",
    "                    maxLen = L\n",
    "                    begin = i\n",
    "        return s[begin:begin + maxLen]"
   ]
  },
  {
   "attachments": {},
   "cell_type": "markdown",
   "metadata": {},
   "source": [
    "### 10. <span id = \"5\">正则表达式匹配<span>\n",
    "\n",
    "'.' 匹配任意单个字符，'*' 匹配零个或多个前面的元素（零次的话前面的元素也不起作用）\n",
    "\n",
    "1. 状态 $dp[i][j]$ 表示 p 的前 $i$ 与 s 的前 $j$ 个元素是否匹配\n",
    "2. 如果 $p[i] == .$，$dp[i][j]=dp[i-1][j-1]$\n",
    "3. 如果 $p[i] == *$，\n",
    "   - 匹配零次，$dp[i][j]=dp[i][j-2]$\n",
    "   - 匹配一次或多次 $dp[i][j]=dp[i-1][j]$ #直观上其实可以理解，就是当前j-1与i相等的时候，考虑j与i-1是否匹配，就是因为*可以重复匹配，只需要最后一个匹配即可\n",
    "4. 当 $p[i] == *$ 时匹配一次或多次的前提，是j-1与i的字符相等或者j-1是.\n",
    "\n",
    "python无需初始化是因为，索引-1的时候可以取到dp后面的false。c++则不行，因此需要初始化，\n",
    "1. 匹配s的空字符，只需要考虑\".*\"的情况\n",
    "2. p的第一个字符不可能是\"*\"，因此只需要从第二个字符考虑，当p为\"$\\ast$\"时，$dp[0][j] = dp[0][j - 2]$\n",
    "\n",
    "！注意 $p[i] == *$ 匹配0次没有条件，一次或多次是有条件的，必须满足前一个字母与s中要匹配的字母是一致的，或者前一个字母是\".\""
   ]
  },
  {
   "cell_type": "code",
   "execution_count": null,
   "metadata": {},
   "outputs": [],
   "source": [
    "class Solution:\n",
    "    def isMatch(self, s: str, p: str) -> bool:\n",
    "        m, n = len(s), len(p)\n",
    "        dp = [[False] * (n + 1) for _ in range(m + 1)]\n",
    "\n",
    "        dp[0][0] = True\n",
    "        for i in range(m + 1):\n",
    "            for j in range(1, n + 1):\n",
    "                # i其实已经超出索引了，可能是-1，然后读到false\n",
    "                if p[j - 1] == '.':\n",
    "                    dp[i][j] = dp[i - 1][j - 1]\n",
    "                elif p[j - 1] == '*':\n",
    "                    dp[i][j] = dp[i][j - 2] or ((s[i - 1] == p[j - 2] or p[j - 2] == '.') and dp[i - 1][j])\n",
    "                else:\n",
    "                    dp[i][j] = dp[i - 1][j - 1] and s[i - 1] == p[j - 1]\n",
    "        return dp[-1][-1]"
   ]
  },
  {
   "cell_type": "code",
   "execution_count": null,
   "metadata": {
    "vscode": {
     "languageId": "cpp"
    }
   },
   "outputs": [],
   "source": [
    "class Solution {\n",
    "public:\n",
    "    bool isMatch(string s, string p) {\n",
    "        int n = s.size();\n",
    "        int m = p.size();\n",
    "        \n",
    "        vector<vector<bool>> dp(n + 1, vector<bool>(m + 1, false));\n",
    "        dp[0][0] = true;\n",
    "\n",
    "        for (int j = 2; j < m + 1; ++j){\n",
    "            if (p[j - 1] == '*'){\n",
    "                dp[0][j] = dp[0][j - 2];\n",
    "            }\n",
    "        }\n",
    "\n",
    "        for (int i = 1; i < n + 1; ++i){\n",
    "            for (int j = 1; j < m + 1; ++j){\n",
    "                if (s[i - 1] == p[j - 1] || p[j - 1] == '.'){\n",
    "                    dp[i][j] = dp[i - 1][j - 1];\n",
    "                } else if (p[j - 1] == '*'){\n",
    "                    dp[i][j] = dp[i][j - 2] || ((s[i - 1] == p[j - 2] || p[j - 2] == '.') && dp[i - 1][j]);\n",
    "                }\n",
    "            }\n",
    "        }\n",
    "        return dp[n][m];\n",
    "    }\n",
    "};\n",
    "\n",
    "class Solution {\n",
    "public:\n",
    "    bool isMatch(string s, string p) {\n",
    "        int m = s.size();\n",
    "        int n = p.size();\n",
    "\n",
    "        auto matches = [&](int i, int j) {\n",
    "            if (i == 0) {\n",
    "                return false;\n",
    "            }\n",
    "            if (p[j - 1] == '.') {\n",
    "                return true;\n",
    "            }\n",
    "            return s[i - 1] == p[j - 1];\n",
    "        };\n",
    "\n",
    "        vector<vector<int>> f(m + 1, vector<int>(n + 1));\n",
    "        f[0][0] = true;\n",
    "        for (int i = 0; i <= m; ++i) {\n",
    "            for (int j = 1; j <= n; ++j) {\n",
    "                if (p[j - 1] == '*') {\n",
    "                    f[i][j] |= f[i][j - 2];\n",
    "                    if (matches(i, j - 1)) {\n",
    "                        f[i][j] |= f[i - 1][j];\n",
    "                    }\n",
    "                }\n",
    "                else {\n",
    "                    if (matches(i, j)) {\n",
    "                        f[i][j] |= f[i - 1][j - 1];\n",
    "                    }\n",
    "                }\n",
    "            }\n",
    "        }\n",
    "        return f[m][n];\n",
    "    }\n",
    "};"
   ]
  },
  {
   "cell_type": "markdown",
   "metadata": {},
   "source": [
    "### 22. <span id = \"22\">括号生成<span>\n",
    "\n"
   ]
  },
  {
   "cell_type": "code",
   "execution_count": null,
   "metadata": {},
   "outputs": [],
   "source": [
    "class Solution:\n",
    "    def generateParenthesis(self, n: int) -> List[str]:\n",
    "        dp = [['']]\n",
    "\n",
    "        for i in range(1, n + 1):\n",
    "            result = []\n",
    "            for j in range(i):\n",
    "                result.extend(['({}){}'.format(l, r) for l in dp[j] for r in dp[i - 1 - j]])\n",
    "            dp.append(result)\n",
    "        return dp[-1]\n",
    "\n",
    "class Solution:\n",
    "    def generateParenthesis(self, n: int) -> List[str]:\n",
    "        dp = [['']]\n",
    "\n",
    "        for i in range(1, n + 1):\n",
    "            result = []\n",
    "            for j in range(i):\n",
    "                for l in dp[j]:\n",
    "                    for r in dp[i - 1 - j]:\n",
    "                        result.append('({}){}'.format(l, r))\n",
    "            dp.append(result)\n",
    "        return dp[-1]"
   ]
  },
  {
   "cell_type": "markdown",
   "metadata": {},
   "source": [
    "### 32. <span id = \"32\">最长有效括号<span>\n",
    "\n",
    "dp 状态为以i结尾的最长有效括号\n",
    "\n",
    "当前i的括号为'('时一定为0\n",
    "\n",
    "当前i的括号为')'时，判断前一位为什么，当为'('时很简单，dp[i] = dp[i - 2] + 2\n",
    "\n",
    "当为')'时，则通过以i-1为结尾的长度回推之前i - dp[i - 1] - 1的值，如果它是'('\n",
    "\n",
    "dp[i] = dp[i - 1] + 2 + dp[i - dp[i - 1] - 2]  \n",
    "\n",
    "例如  ( ) ( ( ( ) ) )\n",
    "\n",
    "[ ( ) 第三项代表之前的][ ( ][ ( ( ) ) 第一项代表中间的][ ) 第二项代表首尾的]\n",
    "\n",
    "注意 i - dp[i - 1] - 1 会越界小于0，因此需要判断其是否大于等于0\n",
    "\n",
    "而dp[i - dp[i - 1] - 2] 或者 dp[i - 2] 也会越界，但dp[-1]也是0，所以不会影响"
   ]
  },
  {
   "cell_type": "code",
   "execution_count": null,
   "metadata": {},
   "outputs": [],
   "source": [
    "'''\n",
    "    (    (    (    )    )    )\n",
    "                       i-1   i\n",
    "dp  0    0    0    2    4             \n",
    "  5-4-1               \n",
    "i - dp[i - 1] - 1\n",
    "'''\n",
    "\n",
    "\n",
    "class Solution:\n",
    "    def longestValidParentheses(self, s: str) -> int:\n",
    "        # 不好\n",
    "        dp = [0] * (len(s) + 1)\n",
    "        for i in range(0, len(s)):\n",
    "            if s[i:i+2] == '()':\n",
    "                dp[i + 2] = dp[i] + 2\n",
    "            elif s[i:i+2] == '))':\n",
    "                if i - dp[i + 1] >= 0 and s[i - dp[i + 1]] == '(':\n",
    "                    dp[i + 2] = dp[i + 1] + 2 + dp[i - dp[i + 1]]\n",
    "        return max(dp)\n",
    "\n",
    "class Solution:\n",
    "    def longestValidParentheses(self, s: str) -> int:\n",
    "        dp = [0] * len(s)\n",
    "        for i in range(1, len(s)):\n",
    "            if s[i] == ')':\n",
    "                if s[i - 1] == '(':\n",
    "                    dp[i] = dp[i - 2] + 2\n",
    "                if s[i - 1] == ')' and i - dp[i - 1] - 1 >=0 and s[i - dp[i - 1] - 1] == '(':\n",
    "                    dp[i] = dp[i - 1] + 2 + dp[i - dp[i - 1] - 2]\n",
    "        return max(dp) if len(dp) > 0 else 0"
   ]
  },
  {
   "cell_type": "markdown",
   "metadata": {},
   "source": [
    "### 42. <span id = \"42\">接雨水<span>\n",
    "\n",
    "分别维护一个当前左右最高的边界的dp数组\n",
    "\n",
    "迭代器的用法很有意思"
   ]
  },
  {
   "cell_type": "code",
   "execution_count": null,
   "metadata": {},
   "outputs": [],
   "source": [
    "class Solution:\n",
    "    def trap(self, height: List[int]) -> int: \n",
    "        n = len(height)\n",
    "        leftMax = [height[0]] * n\n",
    "        rightMax = [height[-1]] * n\n",
    "\n",
    "        for i in range(1, n):\n",
    "            leftMax[i] = max(leftMax[i - 1], height[i])\n",
    "        for i in range(n - 2, -1, -1):\n",
    "            rightMax[i] = max(rightMax[i  + 1], height[i])\n",
    "\n",
    "        res = 0\n",
    "        for i in range(n):\n",
    "            res += min(leftMax[i], rightMax[i]) - height[i]\n",
    "\n",
    "        # ans = sum(min(leftMax[i], rightMax[i]) - height[i] for i in range(n))  # 迭代器\n",
    "        return res"
   ]
  },
  {
   "cell_type": "markdown",
   "metadata": {},
   "source": [
    "### 44. <span id = \"42\">通配符匹配<span>\n",
    "\n",
    "$$dp[i][j] = dp[i][j - 1] | dp[i - 1][j - 1] | dp[i - 2][j - 1] | dp[i - 3][j - 1] | ... | dp[0][j - 1]$$\n",
    "$$dp[i - 1][j] = dp[i - 1][j - 1] | dp[i - 2][j - 1] | dp[i - 3][j - 1] | ... | dp[0][j - 1]$$\n",
    "$$dp[i][j] = dp[i][j - 1] | dp[i - 1][j]$$\n",
    "\n",
    "不需要 any(dp[i][: j+2])，通过上式化简"
   ]
  },
  {
   "cell_type": "code",
   "execution_count": null,
   "metadata": {},
   "outputs": [],
   "source": [
    "class Solution:\n",
    "    def isMatch(self, s: str, p: str) -> bool:\n",
    "        dp = [[False] * (len(s) + 1) for _ in range(len(p) + 1)]\n",
    "        dp[0][0] = True\n",
    "\n",
    "        for i in range(len(p)):\n",
    "            if p[i] == '*':\n",
    "                dp[i + 1][0] = True\n",
    "            else:\n",
    "                break\n",
    "\n",
    "        for i in range(len(p)):\n",
    "            for j in range(len(s)):\n",
    "                if p[i] == '?':\n",
    "                    dp[i + 1][j + 1] = dp[i][j]\n",
    "                elif p[i] == '*':\n",
    "                    dp[i + 1][j + 1] = dp[i][j + 1] | dp[i + 1][j] # any(dp[i][: j+2])\n",
    "                else:\n",
    "                    dp[i + 1][j + 1] = (p[i] == s[j] and dp[i][j])\n",
    "        return dp[-1][-1]"
   ]
  },
  {
   "cell_type": "markdown",
   "metadata": {},
   "source": [
    "### 53. <span id = \"53\">最大子数组和<span>\n",
    "\n",
    "pre  += nums[i]\n",
    "\n",
    "if pre < 0: pre = 0\n",
    "\n",
    "可以合并成 pre = max(nums[i], pre + nums[i])\n",
    "\n",
    "存在线段树方法"
   ]
  },
  {
   "cell_type": "code",
   "execution_count": null,
   "metadata": {},
   "outputs": [],
   "source": [
    "class Solution:\n",
    "    def maxSubArray(self, nums: List[int]) -> int:\n",
    "        res, pre = float('-inf'), 0\n",
    "        for i in range(len(nums)):\n",
    "            pre = max(nums[i], pre + nums[i])\n",
    "            res = max(res, pre)\n",
    "        return res"
   ]
  },
  {
   "cell_type": "markdown",
   "metadata": {},
   "source": [
    "### 62. <span id = \"62\">不同路径<span>\n"
   ]
  },
  {
   "cell_type": "code",
   "execution_count": null,
   "metadata": {},
   "outputs": [],
   "source": [
    "class Solution:\n",
    "    def uniquePaths(self, m: int, n: int) -> int:\n",
    "        dp = [[0] * n for _ in range(m)]\n",
    "        for i in range(m):\n",
    "            dp[i][0] = 1\n",
    "        for j in range(n):\n",
    "            dp[0][j] = 1\n",
    "\n",
    "        for i in range(1, m):\n",
    "            for j in range(1, n):\n",
    "                dp[i][j] = dp[i - 1][j] + dp[i][j - 1]\n",
    "\n",
    "        return dp[-1][-1]"
   ]
  },
  {
   "cell_type": "markdown",
   "metadata": {},
   "source": [
    "### 63. <span id = \"63\">不同路径 II<span>\n",
    "\n",
    "滚动数组的写法，并且不需要过多初始化"
   ]
  },
  {
   "cell_type": "code",
   "execution_count": null,
   "metadata": {},
   "outputs": [],
   "source": [
    "class Solution:\n",
    "    def uniquePathsWithObstacles(self, obstacleGrid: List[List[int]]) -> int:\n",
    "        m, n = len(obstacleGrid), len(obstacleGrid[0])\n",
    "        dp = [0] * n\n",
    "        dp[0] = 1 \n",
    "\n",
    "        for i in range(m):\n",
    "            for j in range(n):\n",
    "                if obstacleGrid[i][j] == 1:\n",
    "                    dp[j] = 0\n",
    "                elif j > 0:\n",
    "                    dp[j] = dp[j] + dp[j - 1]\n",
    "        return dp[-1]"
   ]
  },
  {
   "cell_type": "markdown",
   "metadata": {},
   "source": [
    "### 64. <span id = \"64\">最小路径和<span>"
   ]
  },
  {
   "cell_type": "code",
   "execution_count": null,
   "metadata": {},
   "outputs": [],
   "source": [
    "class Solution:\n",
    "    def minPathSum(self, grid):\n",
    "        m = len(grid)\n",
    "        n = len(grid[0])\n",
    "\n",
    "        dp = [float('inf') for _ in range(n)]\n",
    "        dp[0] = 0\n",
    "\n",
    "        for i in range(m):\n",
    "            for j in range(n):\n",
    "                if j > 0:\n",
    "                    dp[j] = min(dp[j], dp[j - 1]) + grid[i][j]\n",
    "                else:\n",
    "                    dp[j] = dp[j] + grid[i][j]\n",
    "        \n",
    "        return dp[n - 1]"
   ]
  },
  {
   "cell_type": "markdown",
   "metadata": {},
   "source": [
    "### 70. <span id = \"70\">爬楼梯<span>"
   ]
  },
  {
   "cell_type": "code",
   "execution_count": null,
   "metadata": {},
   "outputs": [],
   "source": [
    "class Solution:\n",
    "    def climbStairs(self, n: int) -> int:\n",
    "        dp = [1, 2]\n",
    "        for i in range(2, n):\n",
    "            dp.append(dp[-2] + dp[-1])\n",
    "        return dp[n - 1]"
   ]
  },
  {
   "cell_type": "markdown",
   "metadata": {},
   "source": [
    "### 72. <span id = \"72\">编辑距离<span>"
   ]
  },
  {
   "cell_type": "code",
   "execution_count": null,
   "metadata": {},
   "outputs": [],
   "source": [
    "class Solution:\n",
    "    def minDistance(self, word1: str, word2: str) -> int:\n",
    "        m , n = len(word1), len(word2)\n",
    "        dp = [[0] * (n + 1) for _ in range(m + 1)]\n",
    "        for i in range(m + 1):\n",
    "            dp[i][0] = i\n",
    "        for j in range(n + 1):\n",
    "            dp[0][j] = j\n",
    "\n",
    "        for i in range(1, m + 1):\n",
    "            for j in range(1, n + 1):\n",
    "                if word1[i - 1] == word2[j - 1]:\n",
    "                    dp[i][j] = dp[i - 1][j - 1]\n",
    "                else:\n",
    "                    dp[i][j] = min(dp[i - 1][j - 1], dp[i - 1][j], dp[i][j - 1]) + 1\n",
    "        return dp[-1][-1]"
   ]
  }
 ],
 "metadata": {
  "kernelspec": {
   "display_name": "Python 3.9.6 64-bit",
   "language": "python",
   "name": "python3"
  },
  "language_info": {
   "codemirror_mode": {
    "name": "ipython",
    "version": 3
   },
   "file_extension": ".py",
   "mimetype": "text/x-python",
   "name": "python",
   "nbconvert_exporter": "python",
   "pygments_lexer": "ipython3",
   "version": "3.9.6"
  },
  "orig_nbformat": 4,
  "vscode": {
   "interpreter": {
    "hash": "1aec40e0cc8dcd72ae861723d928da7f867ad57df585952e683e938264a3f0b6"
   }
  }
 },
 "nbformat": 4,
 "nbformat_minor": 2
}
