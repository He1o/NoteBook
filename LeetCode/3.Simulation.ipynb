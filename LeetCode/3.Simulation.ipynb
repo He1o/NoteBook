{
 "cells": [
  {
   "cell_type": "markdown",
   "metadata": {},
   "source": [
    "# 模拟方法\n",
    "\n",
    "\n",
    "\n",
    "#### 1. Str \n",
    "-  [LeetCode](https://leetcode.cn/problems/zigzag-conversion/)  [| 6. Z 字形变换](#6) \n",
    "\n",
    "#### 2. List \n",
    "\n",
    "#### 3. Linked \n",
    "-  [LeetCode](https://leetcode.cn/problems/add-two-numbers/)  [| 2. 两数相加](#2) \n",
    "\n",
    "#### 4. Tree \n",
    "\n",
    "#### 5. Graph \n",
    "-  [LeetCode](https://leetcode.cn/problems/rotate-image/)  [| 48. 旋转图像](#48) \n",
    "-  [LeetCode](https://leetcode.cn/problems/spiral-matrix/)  [| 54. 螺旋矩阵](#54) \n",
    "-  [LeetCode](https://leetcode.cn/problems/spiral-matrix-ii/)  [| 59. 螺旋矩阵 II](#59) \n",
    "\n",
    "#### 6. Num\n",
    "-  [LeetCode](https://leetcode.cn/problems/integer-to-roman/)  [| 12. 整数转罗马数字](#12) \n",
    "-  [LeetCode](https://leetcode.cn/problems/roman-to-integer/)  [| 13. 罗马数字转整数](#13) \n",
    "-  [LeetCode](https://leetcode.cn/problems/count-and-say/)  [| 38. 外观数列](#38) "
   ]
  },
  {
   "cell_type": "markdown",
   "metadata": {},
   "source": [
    "### 2. <span id = \"2\">两数相加<span>\n",
    "\n",
    "用链表形式存储数字，并模拟加法操作\n"
   ]
  },
  {
   "cell_type": "code",
   "execution_count": null,
   "metadata": {},
   "outputs": [],
   "source": [
    "class Solution:\n",
    "    def addTwoNumbers(self, l1: Optional[ListNode], l2: Optional[ListNode]) -> Optional[ListNode]:\n",
    "        carry = 0\n",
    "        dummy = curr = ListNode()\n",
    "        while l1 or l2 or carry:\n",
    "            a = b = 0\n",
    "            if l1: a, l1 = l1.val, l1.next\n",
    "            if l2: b, l2 = l2.val, l2.next\n",
    "            carry, num = divmod(a + b + carry, 10)\n",
    "            curr.next = ListNode(num)\n",
    "            curr = curr.next\n",
    "        return dummy.next"
   ]
  },
  {
   "cell_type": "code",
   "execution_count": null,
   "metadata": {
    "vscode": {
     "languageId": "cpp"
    }
   },
   "outputs": [],
   "source": [
    "class Solution {\n",
    "public:\n",
    "    ListNode* addTwoNumbers(ListNode* l1, ListNode* l2) {\n",
    "        ListNode *dummy = new ListNode();\n",
    "        auto curr = dummy;\n",
    "        int carry = 0;\n",
    "        while(l1 || l2 || carry){\n",
    "            int a = l1 ? l1->val: 0;\n",
    "            int b = l2 ? l2->val: 0;\n",
    "            int sum = a + b + carry;\n",
    "            curr->next = new ListNode(sum % 10);\n",
    "            curr = curr->next;\n",
    "            carry = sum / 10;\n",
    "\n",
    "            if (l1){l1 = l1->next;}\n",
    "            if (l2){l2 = l2->next;}\n",
    "        }\n",
    "        return dummy->next;\n",
    "    }\n",
    "};"
   ]
  },
  {
   "cell_type": "markdown",
   "metadata": {},
   "source": [
    "### 6. <span id = \"6\">Z 字形变换<span>\n",
    "\n",
    "把字符串转成横着的z字形，也就是翻转后的N字形"
   ]
  },
  {
   "cell_type": "code",
   "execution_count": null,
   "metadata": {},
   "outputs": [],
   "source": [
    "class Solution:\n",
    "    def convert(self, s: str, numRows: int) -> str:\n",
    "        bags = ['' for _ in range(numRows)]\n",
    "\n",
    "        curr, down = 0, False\n",
    "        for i in range(len(s)):\n",
    "            bags[curr] += s[i]\n",
    "\n",
    "            if curr == numRows - 1 or curr == 0:\n",
    "                down = ~down\n",
    "\n",
    "            curr += 1 if down else -1\n",
    "\n",
    "        return ''.join(bags)"
   ]
  },
  {
   "cell_type": "code",
   "execution_count": null,
   "metadata": {
    "vscode": {
     "languageId": "cpp"
    }
   },
   "outputs": [],
   "source": [
    "class Solution {\n",
    "public:\n",
    "    string convert(string s, int numRows) {\n",
    "        if (numRows == 1 || numRows > s.size()){\n",
    "            return s;\n",
    "        }\n",
    "\n",
    "        vector<string> bags(numRows);\n",
    "        for (int i = 0, x = 0; i < s.size(); i++){\n",
    "            bags[x] += s[i];\n",
    "            i % (2 * numRows - 2) < numRows - 1 ? ++x : --x;\n",
    "        }\n",
    "\n",
    "        string res;\n",
    "        for (auto &row : bags){\n",
    "            res += row;\n",
    "        }\n",
    "\n",
    "        return res;\n",
    "    }\n",
    "};"
   ]
  },
  {
   "cell_type": "markdown",
   "metadata": {},
   "source": [
    "### 12. <span id = \"12\">整数转罗马数字<span>"
   ]
  },
  {
   "cell_type": "code",
   "execution_count": null,
   "metadata": {},
   "outputs": [],
   "source": [
    "class Solution:\n",
    "    def intToRoman(self, num: int) -> str:\n",
    "        table = [\n",
    "            ['M',  1000],\n",
    "            ['CM', 900],\n",
    "            ['D',  500],\n",
    "            ['CD', 400],\n",
    "            ['C',  100],\n",
    "            ['XC',  90],\n",
    "            ['L',  50],\n",
    "            ['XL',  40],\n",
    "            ['X',  10],\n",
    "            ['IX',  9],\n",
    "            ['V',  5],\n",
    "            ['IV',  4],\n",
    "            ['I',  1],\n",
    "        ]\n",
    "\n",
    "        result = []\n",
    "        for label, c in table:\n",
    "            x, num = divmod(num, c)\n",
    "            if x:\n",
    "                result.append(label*x)\n",
    "\n",
    "        return ''.join(result)"
   ]
  },
  {
   "cell_type": "code",
   "execution_count": null,
   "metadata": {
    "vscode": {
     "languageId": "cpp"
    }
   },
   "outputs": [],
   "source": [
    "const pair<int, string> table[] = {\n",
    "    {1000, \"M\"},\n",
    "    {900,  \"CM\"},\n",
    "    {500,  \"D\"},\n",
    "    {400,  \"CD\"},\n",
    "    {100,  \"C\"},\n",
    "    {90,   \"XC\"},\n",
    "    {50,   \"L\"},\n",
    "    {40,   \"XL\"},\n",
    "    {10,   \"X\"},\n",
    "    {9,    \"IX\"},\n",
    "    {5,    \"V\"},\n",
    "    {4,    \"IV\"},\n",
    "    {1,    \"I\"},\n",
    "};\n",
    "\n",
    "class Solution {\n",
    "public:\n",
    "    string intToRoman(int num) {\n",
    "        string res;\n",
    "        for (const auto &[val, label] : table){\n",
    "            while (num >= val){\n",
    "                num -= val;\n",
    "                res += label;\n",
    "            }\n",
    "        }\n",
    "        return res;\n",
    "    }\n",
    "};"
   ]
  },
  {
   "cell_type": "markdown",
   "metadata": {},
   "source": [
    "### 13. <span id = \"13\">罗马数字转整数<span>\n",
    "\n",
    "如果i的值小于i+1，则减去i的值"
   ]
  },
  {
   "cell_type": "code",
   "execution_count": null,
   "metadata": {},
   "outputs": [],
   "source": [
    "class Solution:\n",
    "    def romanToInt(self, s: str) -> int:\n",
    "        table = {\n",
    "            'M': 1000,\n",
    "            'D': 500,\n",
    "            'C': 100,\n",
    "            'L': 50,\n",
    "            'X': 10,\n",
    "            'V': 5,\n",
    "            'I': 1}\n",
    "        \n",
    "        ans = 0\n",
    "        for i in range(len(s)):\n",
    "            if i != (len(s) - 1) and table[s[i]] < table[s[i + 1]]:\n",
    "                ans -= table[s[i]]\n",
    "            else:\n",
    "                ans += table[s[i]]\n",
    "        return ans"
   ]
  },
  {
   "cell_type": "code",
   "execution_count": null,
   "metadata": {
    "vscode": {
     "languageId": "cpp"
    }
   },
   "outputs": [],
   "source": [
    "\n",
    "class Solution {\n",
    "private:\n",
    "    unordered_map<char, int> table = {\n",
    "        {'I', 1},\n",
    "        {'V', 5},\n",
    "        {'X', 10},\n",
    "        {'L', 50},\n",
    "        {'C', 100},\n",
    "        {'D', 500},\n",
    "        {'M', 1000},\n",
    "    };\n",
    "\n",
    "\n",
    "public:\n",
    "    int romanToInt(string s) {\n",
    "        int ans = 0, n = s.size();\n",
    "        for (int i = 0; i < n; ++i){\n",
    "            if (i < n - 1 && table[s[i]] < table[s[i + 1]]){\n",
    "                ans -= table[s[i]];\n",
    "            } else{\n",
    "                ans += table[s[i]];\n",
    "            }\n",
    "        }\n",
    "        return ans;\n",
    "    }\n",
    "};"
   ]
  },
  {
   "cell_type": "markdown",
   "metadata": {},
   "source": [
    "### 38. <span id = \"38\">外观数列<span>\n",
    "\n",
    "寻找不同，l 和 r 可以都从0 开始，r一直前进，不同时退出循环"
   ]
  },
  {
   "cell_type": "code",
   "execution_count": null,
   "metadata": {},
   "outputs": [],
   "source": [
    "class Solution:\n",
    "    def countAndSay(self, n: int) -> str:\n",
    "        s = '1'\n",
    "        for i in range(1, n):\n",
    "            tmp = ''\n",
    "            l = r = 0\n",
    "            while r < len(s):\n",
    "                while r < len(s) and s[r] == s[l]:\n",
    "                    r += 1\n",
    "                tmp += str(r - l)\n",
    "                tmp += s[l]\n",
    "                l = r\n",
    "            s = tmp\n",
    "        return s"
   ]
  },
  {
   "cell_type": "markdown",
   "metadata": {},
   "source": [
    "### 48. <span id = \"48\">旋转图像<span>\n"
   ]
  },
  {
   "cell_type": "code",
   "execution_count": null,
   "metadata": {},
   "outputs": [],
   "source": [
    "class Solution:\n",
    "    def rotate(self, matrix: List[List[int]]) -> None:\n",
    "        \"\"\"\n",
    "        Do not return anything, modify matrix in-place instead.\n",
    "        \"\"\"\n",
    "        n = len(matrix)\n",
    "        for i in range(n):\n",
    "            for j in range(i):\n",
    "                matrix[i][j], matrix[j][i] = matrix[j][i], matrix[i][j]\n",
    "\n",
    "        for i in range(n):\n",
    "            for j in range(n // 2):\n",
    "                matrix[i][j], matrix[i][n - j - 1] = matrix[i][n - j - 1], matrix[i][j]"
   ]
  },
  {
   "cell_type": "markdown",
   "metadata": {},
   "source": [
    "### 54. <span id = \"54\">螺旋矩阵<span>\n",
    "\n",
    "其实只需要知道边界即可，不需要知道当前的位置"
   ]
  },
  {
   "cell_type": "code",
   "execution_count": null,
   "metadata": {},
   "outputs": [],
   "source": [
    "class Solution:\n",
    "    def spiralOrder(self, matrix: List[List[int]]) -> List[int]:\n",
    "        up, left, down, right = 0, 0, len(matrix) - 1, len(matrix[0]) - 1\n",
    "        result = []\n",
    "\n",
    "        while True:\n",
    "            for i in range(left, right + 1, 1):\n",
    "                result.append(matrix[up][i])\n",
    "            up += 1\n",
    "            if up > down: break\n",
    "\n",
    "            for i in range(up, down + 1, 1):\n",
    "                result.append(matrix[i][right])\n",
    "            right -= 1\n",
    "            if right < left: break\n",
    "\n",
    "            for i in range(right, left - 1, -1):\n",
    "                result.append(matrix[down][i])\n",
    "            down -= 1\n",
    "            if down < up: break\n",
    "\n",
    "            for i in range(down, up - 1, -1):\n",
    "                result.append(matrix[i][left])\n",
    "            left += 1\n",
    "            if left > right: break\n",
    "\n",
    "        return result"
   ]
  },
  {
   "cell_type": "markdown",
   "metadata": {},
   "source": [
    "### 59. <span id = \"59\">螺旋矩阵 II<span>\n",
    "\n",
    "通过控制方向可以调整下一个赋值的位置，边界情况可以根据是否有值来判断。"
   ]
  },
  {
   "cell_type": "code",
   "execution_count": null,
   "metadata": {},
   "outputs": [],
   "source": [
    "class Solution:\n",
    "    def generateMatrix(self, n: int) -> List[List[int]]:\n",
    "        graphs = [[0 for i in range(n)] for i in range(n)]\n",
    "        dirs = [(0, 1), (1, 0), (0, -1), (-1, 0)]\n",
    "        i, j, cidx, cdir = 0, 0, 0, dirs[0]\n",
    "        for num in range(n * n):\n",
    "            graphs[i][j] = num\n",
    "            if not ((0 <= i + cdir[0] < n) and (0 <= j + cdir[1] < n) and graphs[i + cdir[0]][j + cdir[1]] == 0):\n",
    "                cidx = (cidx + 1) % 4\n",
    "                cdir = dirs[cidx]\n",
    "            i += cdir[0]\n",
    "            j += cdir[1]\n",
    "        return graphs\n",
    "\n",
    "\n",
    "\n",
    "\n"
   ]
  }
 ],
 "metadata": {
  "kernelspec": {
   "display_name": "Python 3.9.6 64-bit",
   "language": "python",
   "name": "python3"
  },
  "language_info": {
   "name": "python",
   "version": "3.9.6"
  },
  "orig_nbformat": 4,
  "vscode": {
   "interpreter": {
    "hash": "1aec40e0cc8dcd72ae861723d928da7f867ad57df585952e683e938264a3f0b6"
   }
  }
 },
 "nbformat": 4,
 "nbformat_minor": 2
}
