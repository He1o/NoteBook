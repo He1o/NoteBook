{
 "cells": [
  {
   "cell_type": "markdown",
   "metadata": {},
   "source": [
    "# 动态规划\n",
    "\n",
    "\n",
    "\n",
    "#### 1. Str \n",
    "-  [LeetCode](https://leetcode.cn/problems/wildcard-matching/)  [| 44. 通配符匹配](#44) \n",
    "\n",
    "#### 2. List \n",
    "-  [LeetCode](https://leetcode.cn/problems/jump-game-ii/)  [| 45. 跳跃游戏 II](#45) \n",
    "-  [LeetCode](https://leetcode.cn/problems/jump-game/)  [| 55. 跳跃游戏](#55)\n",
    "-  [LeetCode](https://leetcode.cn/problems/minimum-operations-to-make-binary-array-elements-equal-to-one-i//)  [| 3191. 使二进制数组全部等于 1 的最少操作次数 I](#3191)\n",
    "\n",
    "#### 3. Linked \n",
    "\n",
    "#### 4. Tree \n",
    "\n",
    "#### 5. Graph \n",
    "\n",
    "#### 6. Num\n",
    "\n",
    "#### 7. Combination"
   ]
  },
  {
   "cell_type": "markdown",
   "metadata": {},
   "source": [
    "贪心是 DP 的子集，能贪心的题目也可以暴力 DP，就是复杂度可能更高。但反过来，能 DP 的题目就不一定能贪心了。"
   ]
  },
  {
   "cell_type": "markdown",
   "metadata": {},
   "source": [
    "### 44. <span id = \"42\">通配符匹配<span>"
   ]
  },
  {
   "cell_type": "code",
   "execution_count": null,
   "metadata": {},
   "outputs": [],
   "source": [
    "class Solution:\n",
    "    def isMatch(self, s: str, p: str) -> bool:\n",
    "        "
   ]
  },
  {
   "cell_type": "markdown",
   "metadata": {},
   "source": [
    "### 45. <span id = \"45\">跳跃游戏 II<span>"
   ]
  },
  {
   "cell_type": "code",
   "execution_count": null,
   "metadata": {},
   "outputs": [],
   "source": [
    "class Solution:\n",
    "    def jump(self, nums: List[int]) -> int:\n",
    "        n = len(nums)\n",
    "        maxPos = end = step = 0\n",
    "        for i in range(n - 1):\n",
    "            maxPos = max(maxPos, nums[i] + i)\n",
    "            if i == end:\n",
    "                end = maxPos\n",
    "                step += 1\n",
    "        return step\n",
    "\n",
    "class Solution:\n",
    "    # 自己写的\n",
    "    def jump(self, nums: List[int]) -> int:\n",
    "        if len(nums) == 1:\n",
    "            return 0\n",
    "        \n",
    "        curr = step = 0\n",
    "        while True:\n",
    "            step += 1\n",
    "            if curr + nums[curr] >= len(nums) - 1:\n",
    "                break\n",
    "\n",
    "            maxIndex = maxL = 0\n",
    "            for i in range(1, nums[curr] + 1):\n",
    "                if nums[curr + i] + i >= maxL:\n",
    "                    maxIndex = curr + i\n",
    "                    maxL = nums[curr + i] + i\n",
    "            curr = maxIndex\n",
    "        return step"
   ]
  },
  {
   "cell_type": "markdown",
   "metadata": {},
   "source": [
    "### 55. <span id = \"55\">跳跃游戏<span>\n",
    "\n",
    "在i小于最远能达到距离时更新maxpos\n",
    "\n",
    "最后判断最远距离是否到达最后一位即可"
   ]
  },
  {
   "cell_type": "code",
   "execution_count": null,
   "metadata": {},
   "outputs": [],
   "source": [
    "class Solution:\n",
    "    def canJump(self, nums: List[int]) -> bool:\n",
    "        maxpos = 0\n",
    "        for i in range(len(nums)):\n",
    "            if i <= maxpos:\n",
    "                maxpos = max(maxpos, i + nums[i])\n",
    "        return maxpos >= i"
   ]
  },
  {
   "cell_type": "markdown",
   "metadata": {},
   "source": [
    "### 3191. <span id = \"3191\">使二进制数组全部等于 1 的最少操作次数 I<span>\n",
    "\n",
    "假设某种操作顺序是最优的，那么总是可以把这个操作顺序重排成从左到右操作。\n",
    "\n",
    "操作两次等于没有操作，所以同一个 i 至多操作一次。"
   ]
  },
  {
   "cell_type": "code",
   "execution_count": null,
   "metadata": {
    "vscode": {
     "languageId": "cpp"
    }
   },
   "outputs": [],
   "source": [
    "class Solution {\n",
    "public:\n",
    "    int minOperations(vector<int>& nums) {\n",
    "        int n = nums.size();\n",
    "        int ans = 0;\n",
    "        for (int i = 0; i < n - 2; i++){\n",
    "            if (nums[i] == 0) {\n",
    "                nums[i + 1] ^= 1;\n",
    "                nums[i + 2] ^= 1;\n",
    "                ans += 1;\n",
    "            }\n",
    "        }\n",
    "        return (nums[n - 1] && nums[n - 2]) ? ans : -1;\n",
    "    }\n",
    "};"
   ]
  },
  {
   "cell_type": "markdown",
   "metadata": {},
   "source": []
  },
  {
   "cell_type": "code",
   "execution_count": null,
   "metadata": {
    "vscode": {
     "languageId": "cpp"
    }
   },
   "outputs": [],
   "source": []
  }
 ],
 "metadata": {
  "kernelspec": {
   "display_name": "Python 3.9.6 64-bit",
   "language": "python",
   "name": "python3"
  },
  "language_info": {
   "name": "python",
   "version": "3.9.6"
  },
  "orig_nbformat": 4,
  "vscode": {
   "interpreter": {
    "hash": "1aec40e0cc8dcd72ae861723d928da7f867ad57df585952e683e938264a3f0b6"
   }
  }
 },
 "nbformat": 4,
 "nbformat_minor": 2
}
