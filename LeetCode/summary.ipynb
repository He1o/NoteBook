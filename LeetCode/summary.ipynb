{
 "cells": [
  {
   "cell_type": "code",
   "execution_count": 9,
   "metadata": {},
   "outputs": [
    {
     "name": "stdout",
     "output_type": "stream",
     "text": [
      "-1 0 0 -1\n",
      "0 0 1 0\n"
     ]
    }
   ],
   "source": [
    "import math\n",
    "\n",
    "a = 2\n",
    "b = -3\n",
    "print(a // b, int(a / b), math.ceil(a / b), math.floor(a / b))              \n",
    "\n",
    "a = 2\n",
    "b = 3\n",
    "print(a // b, int(a / b), math.ceil(a / b), math.floor(a / b))              \n",
    "\n",
    "#   //      整除向下取整\n",
    "#   floor   整除向下取整，与 // 结果一致\n",
    "#   ceil    整除向上取整\n",
    "#   int     整除向0取整"
   ]
  },
  {
   "cell_type": "code",
   "execution_count": 2,
   "metadata": {},
   "outputs": [
    {
     "name": "stdout",
     "output_type": "stream",
     "text": [
      "2\n"
     ]
    }
   ],
   "source": [
    "# mod 与整除的方式有关\n",
    "# c = a // b\n",
    "# c * b + d = a   c 是商，d 是余数\n",
    "# d = a % b\n",
    "\n",
    "a = -3\n",
    "b = 5\n",
    "\n",
    "# python 中整除是向下取整，-3 // 5 = -1，d = -3 - 5*(-1) = 2\n",
    "\n",
    "\n",
    "print(a % b)"
   ]
  },
  {
   "cell_type": "code",
   "execution_count": 13,
   "metadata": {},
   "outputs": [
    {
     "name": "stdout",
     "output_type": "stream",
     "text": [
      "False\n"
     ]
    }
   ],
   "source": [
    "print('-3'.isalnum())"
   ]
  },
  {
   "cell_type": "code",
   "execution_count": null,
   "metadata": {},
   "outputs": [],
   "source": [
    "# a, b 大小确定后再调用一遍函数返回，可以保证a < b，就不用赋值\n",
    "def tmp(a, b):\n",
    "    if a > b:\n",
    "        return tmp(b, a)\n",
    "\n"
   ]
  },
  {
   "cell_type": "code",
   "execution_count": 2,
   "metadata": {},
   "outputs": [
    {
     "name": "stdout",
     "output_type": "stream",
     "text": [
      "aa\n"
     ]
    }
   ],
   "source": [
    "# 字符串可以进行拼接，无需使用\n",
    "a = ''\n",
    "a += 'a'\n",
    "a += 'a'\n",
    "print(a)"
   ]
  },
  {
   "cell_type": "code",
   "execution_count": null,
   "metadata": {},
   "outputs": [],
   "source": [
    "# 进位计算\n",
    "\n",
    "class Solution:\n",
    "    def addTwoNumbers(self, l1: ListNode, l2: ListNode) -> ListNode:\n",
    "        dummy = ListNode()\n",
    "        curr = dummy\n",
    "        carry = 0\n",
    "        while l1 or l2 or carry:\n",
    "            if l1: \n",
    "                carry += l1.val\n",
    "                l1 = l1.next\n",
    "            if l2: \n",
    "                carry += l2.val\n",
    "                l2 = l2.next\n",
    "\n",
    "            curr.next = ListNode(carry % 10)\n",
    "            carry = carry // 10\n",
    "            curr = curr.next\n",
    "\n",
    "        return dummy.next"
   ]
  },
  {
   "cell_type": "code",
   "execution_count": 3,
   "metadata": {},
   "outputs": [
    {
     "name": "stdout",
     "output_type": "stream",
     "text": [
      "False\n"
     ]
    }
   ],
   "source": [
    "a = [2,3,3]\n",
    "a.pop(1)\n",
    "a.remove(2)"
   ]
  },
  {
   "cell_type": "code",
   "execution_count": 1,
   "metadata": {},
   "outputs": [
    {
     "name": "stdout",
     "output_type": "stream",
     "text": [
      "[[2, 2, 5], [2, 4, 3], [2, 4, 5], [3, 6, 8], [6, 7, 8]]\n"
     ]
    }
   ],
   "source": [
    "a = [[2,4, 5], [3, 6,8], [2,2, 5],[2,4,3],[6, 7,8]]\n",
    "a.sort()\n",
    "print(a)\n",
    "\n",
    "# 嵌套列表自动多重排序"
   ]
  },
  {
   "cell_type": "code",
   "execution_count": 5,
   "metadata": {},
   "outputs": [
    {
     "name": "stdout",
     "output_type": "stream",
     "text": [
      "False\n"
     ]
    }
   ],
   "source": [
    "print('ab' < 'aa')"
   ]
  },
  {
   "cell_type": "code",
   "execution_count": 4,
   "metadata": {},
   "outputs": [
    {
     "name": "stdout",
     "output_type": "stream",
     "text": [
      "\n"
     ]
    }
   ],
   "source": [
    "a = ''\n",
    "print(a[0:1])"
   ]
  },
  {
   "cell_type": "code",
   "execution_count": null,
   "metadata": {},
   "outputs": [],
   "source": [
    "\n",
    "from collections import Counter\n",
    " \n",
    "nums = [1, 1, 1, 6, 6, 6, 7, 8]\n",
    "count = Counter(nums)  # 统计词频\n",
    "for k, v in count.items():\n",
    "    print(k, v)\n",
    "print(count)\n",
    "\"\"\"\n",
    "输出：\n",
    "1 3\n",
    "6 3\n",
    "7 1\n",
    "8 1\n",
    "Counter({1: 3, 6: 3, 7: 1, 8: 1})\n",
    "'''"
   ]
  }
 ],
 "metadata": {
  "kernelspec": {
   "display_name": "Python 3.9.6 64-bit",
   "language": "python",
   "name": "python3"
  },
  "language_info": {
   "codemirror_mode": {
    "name": "ipython",
    "version": 3
   },
   "file_extension": ".py",
   "mimetype": "text/x-python",
   "name": "python",
   "nbconvert_exporter": "python",
   "pygments_lexer": "ipython3",
   "version": "3.9.6"
  },
  "orig_nbformat": 2,
  "vscode": {
   "interpreter": {
    "hash": "1aec40e0cc8dcd72ae861723d928da7f867ad57df585952e683e938264a3f0b6"
   }
  }
 },
 "nbformat": 4,
 "nbformat_minor": 2
}
