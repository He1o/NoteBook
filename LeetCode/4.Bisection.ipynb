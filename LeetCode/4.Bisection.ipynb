{
 "cells": [
  {
   "cell_type": "markdown",
   "metadata": {},
   "source": [
    "# 二分搜索\n",
    "\n",
    "\n",
    "\n",
    "#### 1. Str \n",
    "\n",
    "#### 2. List \n",
    "-  [LeetCode](https://leetcode.cn/problems/median-of-two-sorted-arrays/)  [| 4. 寻找两个正序数组的中位数](#4) \n",
    "-  [LeetCode](https://leetcode.cn/problems/search-in-rotated-sorted-array/)  [| 33. 搜索旋转排序数组](#33) \n",
    "-  [LeetCode](https://leetcode.cn/problems/find-first-and-last-position-of-element-in-sorted-array/)  [| 34. 在排序数组中查找元素的第一个和最后一个位置](#34) \n",
    "-  [LeetCode](https://leetcode.cn/problems/search-insert-position/)  [| 35. 搜索插入位置](#35) \n",
    "\n",
    "#### 3. Linked \n",
    "-  [LeetCode](https://leetcode.cn/problems/merge-k-sorted-lists/)  [| 23. 合并K个升序链表](#23) \n",
    "\n",
    "#### 4. Tree \n",
    "\n",
    "#### 5. Graph \n",
    "-  [LeetCode](https://leetcode.cn/problems/search-a-2d-matrix/)  [| 74. 搜索二维矩阵](#74) \n",
    "\n",
    "#### 6. Num\n",
    "-  [LeetCode](https://leetcode.cn/problems/sqrtx/)  [| 69. x 的平方根 ](#69) "
   ]
  },
  {
   "cell_type": "code",
   "execution_count": 3,
   "metadata": {},
   "outputs": [
    {
     "name": "stdout",
     "output_type": "stream",
     "text": [
      "10 8\n",
      "8 7\n"
     ]
    }
   ],
   "source": [
    "# 模板\n",
    "nums = [5,7,7,8,8,10]\n",
    "target = 8\n",
    "\n",
    "l, r = 0, len(nums) - 1\n",
    "while l <= r:\n",
    "    mid = (l + r) // 2\n",
    "    if nums[mid] <= target:\n",
    "        l = mid + 1\n",
    "    else:\n",
    "        r = mid - 1\n",
    "# l 在的位置是第一个大于target的值，r 在的位置是第一个小于等于target的值，如果需要寻找target，比较r的值是否是target即可\n",
    "print(nums[l], nums[r])\n",
    "\n",
    "l, r = 0, len(nums) - 1\n",
    "while l <= r:\n",
    "    mid = (l + r) // 2\n",
    "    if nums[mid] < target:\n",
    "        l = mid + 1\n",
    "    else:\n",
    "        r = mid - 1\n",
    "# l 在的位置是第一个大于等于target的值，r 在的位置是第一个小于target的值，如果需要寻找target，比较l的值是否是target即可\n",
    "print(nums[l], nums[r])\n"
   ]
  },
  {
   "cell_type": "markdown",
   "metadata": {},
   "source": [
    "### 4. <span id = \"4\">寻找两个正序数组的中位数<span>\n",
    "\n",
    "两个有序数组，寻找它们的中位数\n",
    "\n",
    "1. 寻找第 k 大的数，每次最多能剔除的是 k//2 个数字，因此每个数组中应该判断的索引位置 pos 是 i + k//2 - 1，更新 k 只需要 k - k//2\n",
    "2. 当 pos 超过数组长度，则取最后一个元素 pos = min(pos, n - 1)，这时候更新 k 就不能用k - k//2，因此更新k最好的方式就是用 k - (pos - i + 1)\n",
    "3. 可以剔除较小的 k//2 个数字，更新 i = pos + 1\n",
    "4. 当 i 超过数组长度， 返回另一数组第 k 小元素\n",
    "5. 当 k 为1，返回两个数组第一个元素较小的"
   ]
  },
  {
   "cell_type": "code",
   "execution_count": null,
   "metadata": {},
   "outputs": [],
   "source": [
    "class Solution:\n",
    "    def findMedianSortedArrays(self, nums1: List[int], nums2: List[int]) -> float:\n",
    "        m, n = len(nums1), len(nums2)\n",
    "        def getKthElement(k):\n",
    "            index1 = index2 = 0\n",
    "\n",
    "            while True:\n",
    "                if index1 >= m:\n",
    "                    return nums2[index2 + k - 1]\n",
    "                if index2 >= n:\n",
    "                    return nums1[index1 + k - 1]\n",
    "                if k == 1:\n",
    "                    return min(nums1[index1], nums2[index2])\n",
    "\n",
    "                \n",
    "                mid1 = min(index1 + k // 2 - 1, m - 1)\n",
    "                mid2 = min(index2 + k // 2 - 1, n - 1)\n",
    "                if nums1[mid1] < nums2[mid2]:\n",
    "                    k = k - (mid1 - index1 + 1)\n",
    "                    index1 = mid1 + 1\n",
    "                else:\n",
    "                    k = k - (mid2 - index2 + 1)\n",
    "                    index2 = mid2 + 1\n",
    "        if (m + n) % 2 == 0:\n",
    "            return (getKthElement((m + n) // 2) + getKthElement((m + n) // 2 + 1)) / 2\n",
    "        else:\n",
    "            return getKthElement((m + n) // 2 + 1)"
   ]
  },
  {
   "cell_type": "code",
   "execution_count": null,
   "metadata": {
    "vscode": {
     "languageId": "cpp"
    }
   },
   "outputs": [],
   "source": [
    "class Solution {\n",
    "public:\n",
    "    double findMedianSortedArrays(vector<int>& nums1, vector<int>& nums2) {\n",
    "        int m = nums1.size(), n = nums2.size();\n",
    "        if ((m + n) % 2 == 0){\n",
    "            return (getKthElement(nums1, nums2, (m + n) / 2) + getKthElement(nums1, nums2, (m + n) / 2 + 1)) / 2.0;\n",
    "        }else{\n",
    "            return getKthElement(nums1, nums2, (m + n) / 2 + 1);\n",
    "        }\n",
    "    }\n",
    "\n",
    "    int getKthElement(vector<int>& nums1, vector<int>& nums2, int k){\n",
    "        int m = nums1.size(), n = nums2.size();\n",
    "        int index1 = 0, index2 = 0;\n",
    "        while (true){\n",
    "            if (index1 == m){return nums2[index2 + k - 1];}\n",
    "            if (index2 == n){return nums1[index1 + k - 1];}\n",
    "            if (k == 1){return min(nums1[index1], nums2[index2]);}\n",
    "\n",
    "            int mid1 = min(index1 + k / 2 - 1, m - 1);\n",
    "            int mid2 = min(index2 + k / 2 - 1, n - 1);\n",
    "            if (nums1[mid1] < nums2[mid2]){\n",
    "                k = k - (mid1 + 1 - index1);\n",
    "                index1 = mid1 + 1;\n",
    "            }else{\n",
    "                k = k - (mid2 + 1 - index2);\n",
    "                index2 = mid2 + 1;                \n",
    "            }\n",
    "        }\n",
    "\n",
    "    }\n",
    "};"
   ]
  },
  {
   "cell_type": "markdown",
   "metadata": {},
   "source": [
    "### 23. <span id = \"23\">合并K个升序链表<span>\n",
    "\n",
    "链表长n，共有k个链表\n",
    "\n",
    "常规思路是最小的头结点，时间复杂度是O(k)，总时间为O(kn*k)\n",
    "\n",
    "通过二分归并可以复杂度O(kn*logk)"
   ]
  },
  {
   "cell_type": "code",
   "execution_count": null,
   "metadata": {},
   "outputs": [],
   "source": [
    "class Solution:\n",
    "    def mergeKLists(self, lists: List[Optional[ListNode]]) -> Optional[ListNode]:\n",
    "        if not lists:\n",
    "            return None\n",
    "        \n",
    "        def mergeTwo(list1, list2):\n",
    "            head = dummy = ListNode()\n",
    "            while list1 and list2:\n",
    "                if list1.val < list2.val:\n",
    "                    head.next = list1\n",
    "                    list1 = list1.next\n",
    "                else:\n",
    "                    head.next = list2\n",
    "                    list2 = list2.next\n",
    "                head = head.next\n",
    "            head.next = list1 if list1 else list2\n",
    "            return dummy.next\n",
    "\n",
    "\n",
    "        def merge(i, j):\n",
    "            if i == j:\n",
    "                return lists[i]\n",
    "            mid = (i + j) // 2\n",
    "            l = merge(i, mid)\n",
    "            r = merge(mid + 1, j)\n",
    "            return mergeTwo(l, r)\n",
    "\n",
    "        return merge(0, len(lists) - 1)\n"
   ]
  },
  {
   "cell_type": "code",
   "execution_count": null,
   "metadata": {
    "vscode": {
     "languageId": "cpp"
    }
   },
   "outputs": [],
   "source": [
    "class Solution {\n",
    "public:\n",
    "    ListNode* mergeKLists(vector<ListNode*>& lists) {\n",
    "        if (lists.size() == 0) {return nullptr;}\n",
    "        return merge(lists, 0, lists.size() - 1);\n",
    "    }\n",
    "\n",
    "    ListNode* merge(vector<ListNode*>& lists, int i, int j){\n",
    "        if (i == j){\n",
    "            return lists[i];\n",
    "        }\n",
    "        int k = (i + j) / 2;\n",
    "        ListNode* l = merge(lists, i, k);\n",
    "        ListNode* r = merge(lists, k + 1, j);\n",
    "\n",
    "        ListNode* preHead = new ListNode();\n",
    "        ListNode* head = preHead;\n",
    "        while (l && r){\n",
    "            if (l->val < r->val){\n",
    "                head->next = l;\n",
    "                l = l->next;\n",
    "            } else {\n",
    "                head->next = r;\n",
    "                r = r->next;\n",
    "            }\n",
    "            head = head->next;\n",
    "        }\n",
    "        head->next = (l ? l : r);\n",
    "        return preHead->next;\n",
    "    }\n",
    "};"
   ]
  },
  {
   "cell_type": "markdown",
   "metadata": {},
   "source": [
    "### 33. <span id = \"23\">搜索旋转排序数组<span>\n",
    "\n",
    "注意当 l <= mid 的时候，左半边即可认为是有序的\n",
    "\n",
    "[3, 1]  target = 1\n",
    "\n",
    "其次赋值的时候记得 mid 加减 1"
   ]
  },
  {
   "cell_type": "code",
   "execution_count": null,
   "metadata": {},
   "outputs": [],
   "source": [
    "class Solution:\n",
    "    def search(self, nums: List[int], target: int) -> int:\n",
    "        l, r = 0, len(nums) - 1\n",
    "        while l <= r:\n",
    "            mid = (l + r) // 2\n",
    "            if nums[mid] == target:\n",
    "                return mid\n",
    "\n",
    "            if nums[l] <= nums[mid]:\n",
    "                if nums[l] <= target < nums[mid]:\n",
    "                    r = mid - 1\n",
    "                else:\n",
    "                    l = mid + 1\n",
    "            else:\n",
    "                if nums[mid] < target <= nums[r]:\n",
    "                    l = mid + 1\n",
    "                else:\n",
    "                    r = mid - 1\n",
    "        return -1                "
   ]
  },
  {
   "cell_type": "markdown",
   "metadata": {},
   "source": [
    "### 34. <span id = \"34\">在排序数组中查找元素的第一个和最后一个位置<span>\n",
    "\n",
    "r + 1 的时候可能会越界，需要进行判断\n",
    "\n",
    "[2, 2] target = 3"
   ]
  },
  {
   "cell_type": "code",
   "execution_count": null,
   "metadata": {},
   "outputs": [],
   "source": [
    "class Solution:\n",
    "    def searchRange(self, nums: List[int], target: int) -> List[int]:\n",
    "        if nums == []:\n",
    "            return [-1, -1]\n",
    "        \n",
    "        result = [-1, -1]\n",
    "        l, r = 0, len(nums) - 1\n",
    "        while l <= r:\n",
    "            mid = (l + r) // 2\n",
    "            if nums[mid] < target:\n",
    "                l = mid + 1\n",
    "            else:\n",
    "                r = mid - 1\n",
    "        if r + 1 == len(nums) or nums[r + 1] != target:\n",
    "            return result\n",
    "        else:\n",
    "            result[0] = l\n",
    "\n",
    "        l, r = 0, len(nums) - 1\n",
    "        while l <= r:\n",
    "            mid = (l + r) // 2\n",
    "            if nums[mid] <= target:\n",
    "                l = mid + 1      \n",
    "            else:\n",
    "                r = mid - 1\n",
    "        result[1] = l - 1\n",
    "        return result"
   ]
  },
  {
   "cell_type": "markdown",
   "metadata": {},
   "source": [
    "### 35. <span id = \"35\">搜索插入位置<span>\n",
    "\n",
    "其实相等的时候不用判断，虽然可以提前结束返回，但返回最终l的值即可"
   ]
  },
  {
   "cell_type": "code",
   "execution_count": null,
   "metadata": {},
   "outputs": [],
   "source": [
    "class Solution:\n",
    "    def searchInsert(self, nums: List[int], target: int) -> int:\n",
    "        l, r = 0, len(nums) - 1\n",
    "        while l <= r:\n",
    "            mid = (l + r) // 2\n",
    "            if nums[mid] == target:\n",
    "                return mid\n",
    "            \n",
    "            if nums[mid] < target:\n",
    "                l = mid + 1\n",
    "            else:\n",
    "                r = mid - 1\n",
    "\n",
    "        return l"
   ]
  },
  {
   "cell_type": "markdown",
   "metadata": {},
   "source": [
    "### 69. <span id = \"69\">x 的平方根 <span>\n",
    "\n",
    "二分时刻需要 mid 加减1"
   ]
  },
  {
   "cell_type": "code",
   "execution_count": null,
   "metadata": {},
   "outputs": [],
   "source": [
    "class Solution:\n",
    "    def mySqrt(self, x: int) -> int:\n",
    "        left, right, res = 0, x, 0\n",
    "        while left <= right:\n",
    "            mid = (left + right) // 2\n",
    "            if mid * mid > x:\n",
    "                right = mid - 1\n",
    "            else:\n",
    "                left = mid + 1\n",
    "                res = mid\n",
    "        return res"
   ]
  },
  {
   "cell_type": "markdown",
   "metadata": {},
   "source": [
    "### 74. <span id = \"74\">搜索二维矩阵<span>"
   ]
  },
  {
   "cell_type": "code",
   "execution_count": null,
   "metadata": {},
   "outputs": [],
   "source": [
    "class Solution:\n",
    "    def searchMatrix(self, matrix: List[List[int]], target: int) -> bool:\n",
    "        m, n = len(matrix), len(matrix[0])\n",
    "        left, right, up, down = 0, n - 1, 0, m - 1\n",
    "\n",
    "        while up <= down:\n",
    "            mid = (up + down) // 2\n",
    "            if matrix[mid][0] <= target:\n",
    "                up = mid + 1\n",
    "            else:\n",
    "                down = mid - 1\n",
    "        \n",
    "        while left <= right:\n",
    "            mid = (left + right) // 2\n",
    "            if matrix[down][mid] <= target:\n",
    "                left = mid + 1\n",
    "            else:\n",
    "                right = mid - 1\n",
    "\n",
    "        return matrix[down][right] == target"
   ]
  },
  {
   "cell_type": "markdown",
   "metadata": {},
   "source": []
  }
 ],
 "metadata": {
  "kernelspec": {
   "display_name": "Python 3.9.6 64-bit",
   "language": "python",
   "name": "python3"
  },
  "language_info": {
   "codemirror_mode": {
    "name": "ipython",
    "version": 3
   },
   "file_extension": ".py",
   "mimetype": "text/x-python",
   "name": "python",
   "nbconvert_exporter": "python",
   "pygments_lexer": "ipython3",
   "version": "3.9.6"
  },
  "orig_nbformat": 4,
  "vscode": {
   "interpreter": {
    "hash": "1aec40e0cc8dcd72ae861723d928da7f867ad57df585952e683e938264a3f0b6"
   }
  }
 },
 "nbformat": 4,
 "nbformat_minor": 2
}
