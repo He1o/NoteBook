{
 "cells": [
  {
   "cell_type": "markdown",
   "metadata": {},
   "source": [
    "# 堆\n",
    "\n",
    "\n",
    "\n",
    "#### 1. Str \n",
    "\n",
    "#### 2. List \n",
    "\n",
    "#### 3. Linked \n",
    "-  [LeetCode](https://leetcode.cn/problems/merge-k-sorted-lists/)  [| 23. 合并K个升序链表](#23) \n",
    "\n",
    "#### 4. Tree \n",
    "\n",
    "#### 5. Graph \n",
    "\n",
    "#### 6. Num\n",
    "\n",
    "#### 7. Combination\n"
   ]
  },
  {
   "cell_type": "code",
   "execution_count": 2,
   "metadata": {},
   "outputs": [
    {
     "name": "stdout",
     "output_type": "stream",
     "text": [
      "(2, 'table') (3, 'table') [(4, 'alpha')]\n"
     ]
    }
   ],
   "source": [
    "import heapq\n",
    "heap = []\n",
    "heapq.heapify(heap)\n",
    "heapq.heappush(heap, (2, 'table'))\n",
    "heapq.heappush(heap, (3, 'table'))\n",
    "a =heapq.heappop(heap)\n",
    "b= heapq.heappushpop(heap, (4, 'alpha'))\n",
    "print(a, b, heap)"
   ]
  },
  {
   "cell_type": "markdown",
   "metadata": {},
   "source": [
    "### 23. <span id = \"23\">合并K个升序链表<span>\n",
    "\n",
    "链表长n，共有k个链表\n",
    "\n",
    "常规思路是最小的头结点，时间复杂度是O(k)，总时间为O(kn*k)\n",
    "\n",
    "但通过维护一个堆可以O(1) 的时间返回最小值，插入时间复杂度O(logk) 总时间复杂度O(kn*logk)"
   ]
  },
  {
   "cell_type": "code",
   "execution_count": null,
   "metadata": {},
   "outputs": [],
   "source": [
    "class Solution:\n",
    "    def mergeKLists(self, lists: List[Optional[ListNode]]) -> Optional[ListNode]:\n",
    "        heap = []\n",
    "        heapq.heapify(heap)\n",
    "        for idx, head in enumerate(lists):\n",
    "            if head:\n",
    "                heapq.heappush(heap, (head.val, idx))\n",
    "\n",
    "        head = dummy = ListNode() \n",
    "        while heap:\n",
    "            idx = heapq.heappop(heap)[1]\n",
    "            head.next = lists[idx]\n",
    "            head = head.next\n",
    "            lists[idx] = lists[idx].next\n",
    "            if lists[idx]:\n",
    "                heapq.heappush(heap, (lists[idx].val, idx))\n",
    "        return dummy.next"
   ]
  }
 ],
 "metadata": {
  "kernelspec": {
   "display_name": "Python 3.9.6 64-bit",
   "language": "python",
   "name": "python3"
  },
  "language_info": {
   "codemirror_mode": {
    "name": "ipython",
    "version": 3
   },
   "file_extension": ".py",
   "mimetype": "text/x-python",
   "name": "python",
   "nbconvert_exporter": "python",
   "pygments_lexer": "ipython3",
   "version": "3.9.6"
  },
  "orig_nbformat": 4,
  "vscode": {
   "interpreter": {
    "hash": "1aec40e0cc8dcd72ae861723d928da7f867ad57df585952e683e938264a3f0b6"
   }
  }
 },
 "nbformat": 4,
 "nbformat_minor": 2
}
