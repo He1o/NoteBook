{
 "cells": [
  {
   "cell_type": "markdown",
   "metadata": {},
   "source": [
    "# 堆\n",
    "\n",
    "#### 1. Str \n",
    "\n",
    "#### 2. List \n",
    "-  [LeetCode](https://leetcode.cn/problems/final-array-state-after-k-multiplication-operations-ii/)  [| 3266. K 次乘运算后的最终数组 II](#3266) \n",
    "\n",
    "#### 3. Linked \n",
    "-  [LeetCode](https://leetcode.cn/problems/merge-k-sorted-lists/)  [| 23. 合并K个升序链表](#23) \n",
    "\n",
    "#### 4. Tree \n",
    "\n",
    "#### 5. Graph \n",
    "\n",
    "#### 6. Num\n",
    "\n",
    "#### 7. Combination\n"
   ]
  },
  {
   "cell_type": "code",
   "execution_count": 2,
   "metadata": {},
   "outputs": [
    {
     "name": "stdout",
     "output_type": "stream",
     "text": [
      "(2, 'table') (3, 'table') [(4, 'alpha')]\n"
     ]
    }
   ],
   "source": [
    "import heapq\n",
    "heap = []\n",
    "heapq.heapify(heap)\n",
    "heapq.heappush(heap, (2, 'table'))\n",
    "heapq.heappush(heap, (3, 'table'))\n",
    "a =heapq.heappop(heap)\n",
    "b= heapq.heappushpop(heap, (4, 'alpha'))\n",
    "print(a, b, heap)"
   ]
  },
  {
   "cell_type": "code",
   "execution_count": null,
   "metadata": {
    "vscode": {
     "languageId": "cpp"
    }
   },
   "outputs": [],
   "source": [
    "#include <algorithm> // 包含 make_heap\n",
    "#include <functional> // 包含 greater\n",
    "\n",
    "// 初始化一个向量\n",
    "std::vector<int> v = {10, 20, 15, 30, 40};\n",
    "\n",
    "// 创建最小堆\n",
    "std::make_heap(v.begin(), v.end(), std::greater<int>());\n",
    "\n",
    "// 输出堆顶元素\n",
    "std::cout << \"Min heap top element: \" << v.front() << std::endl; // 输出: 10\n",
    "\n",
    "// 添加新元素\n",
    "v.push_back(5);\n",
    "std::push_heap(v.begin(), v.end(), std::greater<int>()); // 维护堆性质\n",
    "\n",
    "std::cout << \"After adding 5, new min heap top element: \" << v.front() << std::endl; // 输出: 5\n",
    "\n",
    "// 删除堆顶元素\n",
    "std::pop_heap(v.begin(), v.end(), std::greater<int>()); // 将堆顶元素移动到末尾\n",
    "v.pop_back(); // 删除末尾元素\n",
    "\n",
    "std::cout << \"After popping the top element, new min heap top element: \" << v.front() << std::endl; // 输出: 10"
   ]
  },
  {
   "cell_type": "markdown",
   "metadata": {},
   "source": [
    "### 23. <span id = \"23\">合并K个升序链表<span>\n",
    "\n",
    "链表长n，共有k个链表\n",
    "\n",
    "常规思路是最小的头结点，时间复杂度是O(k)，总时间为O(kn*k)\n",
    "\n",
    "但通过维护一个堆可以O(1) 的时间返回最小值，插入时间复杂度O(logk) 总时间复杂度O(kn*logk)"
   ]
  },
  {
   "cell_type": "code",
   "execution_count": null,
   "metadata": {},
   "outputs": [],
   "source": [
    "class Solution:\n",
    "    def mergeKLists(self, lists: List[Optional[ListNode]]) -> Optional[ListNode]:\n",
    "        heap = []\n",
    "        heapq.heapify(heap)\n",
    "        for idx, head in enumerate(lists):\n",
    "            if head:\n",
    "                heapq.heappush(heap, (head.val, idx))\n",
    "\n",
    "        head = dummy = ListNode() \n",
    "        while heap:\n",
    "            idx = heapq.heappop(heap)[1]\n",
    "            head.next = lists[idx]\n",
    "            head = head.next\n",
    "            lists[idx] = lists[idx].next\n",
    "            if lists[idx]:\n",
    "                heapq.heappush(heap, (lists[idx].val, idx))\n",
    "        return dummy.next"
   ]
  },
  {
   "cell_type": "markdown",
   "metadata": {},
   "source": [
    "### 3266. <span id = \"3266\">K 次乘运算后的最终数组 II<span>\n",
    "\n",
    "一开始想的是排好序，从最小的开始计算，如果比后面的大则再从下一个开始计算，存在的问题就是，处理的过程其实并不是一直向前的，有可能还需要重新开始找。\n",
    "\n",
    "但是这个过程其实是有规律的，在什么情况下计算开始重复了呢？**当处理过原始数组最大的那个数之后，就是一个循环的结束**，之后就是重复这个过程直到结束。\n",
    "\n",
    "假设最大的数是 $x_{max}$， 当处理它的时候意味着其它的数都处理了至少一次 $y * multiplier^n, n > 0$，满足\n",
    "\n",
    "$$\n",
    "\\begin{aligned}\n",
    "    x_{max} &\\ge y * multiplier^{n-1}\\\\\n",
    "    x_{max} &\\le y * multiplier^{n}\n",
    "\\end{aligned}\n",
    "$$\n",
    "因此\n",
    "$$y * multiplier^{n} \\le  x_{max} * multiplier \\le y * multiplier^{n+1}$$\n",
    "即 $x_{max} * multiplier$ 比当前所有其它数都要大，其它数需要再处理至少一次才会进入下一个循环。\n",
    "**并且之后的循环中，每个数只会处理一次**"
   ]
  },
  {
   "cell_type": "code",
   "execution_count": null,
   "metadata": {
    "vscode": {
     "languageId": "cpp"
    }
   },
   "outputs": [],
   "source": [
    "\n",
    "class Solution {\n",
    "\n",
    "static int64_t mod = 1e9 + 7;\n",
    "    \n",
    "public:\n",
    "    int64_t quick_power(int64_t base, int64_t exp) {\n",
    "        int64_t result = 1;\n",
    "        while (exp > 0) {\n",
    "            if (exp % 2 == 1) { // 如果是奇数\n",
    "                result *= base % mod;\n",
    "            }\n",
    "            base *= base % mod; // 平方\n",
    "            exp /= 2; // 指数减半\n",
    "        }\n",
    "        return result;\n",
    "    }\n",
    "\n",
    "    vector<int> getFinalState(vector<int>& nums, int k, int multiplier) {\n",
    "        int n = static_cast<int>(nums.size());\n",
    "        std::vector<std::pair<int64_t, int>> v;\n",
    "        for (int i = 0, i < n, i++) {\n",
    "            v.emplace_back({nums[i], i});\n",
    "        }\n",
    "        const int64_t nums_max = *std::max_element(nums.begin(), nums.end());\n",
    "        std::make_heap(v.begin(), v.end(), std::greater<int>());\n",
    "        while (v.front().first() != nums_max && k != 0){\n",
    "            pop_heap(v.begin(), v.end(), greater<>());\n",
    "            v.back().first *= multiplier;\n",
    "            push_heap(v.begin(), v.end(), greater<>());  \n",
    "            k -= 1;     \n",
    "        }\n",
    "        sort(v.begin(), v.end());\n",
    "        for (int i = 0; i < n; i++) {\n",
    "            int t = k / n + (i < k % n);\n",
    "            nums[v[i].second] = ((v[i].first % m) * quickMul(multiplier, t, m)) % m;\n",
    "        }        \n",
    "    }\n",
    "};\n"
   ]
  }
 ],
 "metadata": {
  "kernelspec": {
   "display_name": "Python 3.9.6 64-bit",
   "language": "python",
   "name": "python3"
  },
  "language_info": {
   "codemirror_mode": {
    "name": "ipython",
    "version": 3
   },
   "file_extension": ".py",
   "mimetype": "text/x-python",
   "name": "python",
   "nbconvert_exporter": "python",
   "pygments_lexer": "ipython3",
   "version": "3.9.6"
  },
  "orig_nbformat": 4,
  "vscode": {
   "interpreter": {
    "hash": "1aec40e0cc8dcd72ae861723d928da7f867ad57df585952e683e938264a3f0b6"
   }
  }
 },
 "nbformat": 4,
 "nbformat_minor": 2
}
