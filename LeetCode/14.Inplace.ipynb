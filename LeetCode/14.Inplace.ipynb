{
 "cells": [
  {
   "cell_type": "markdown",
   "metadata": {},
   "source": [
    "# 回溯\n",
    "\n",
    "\n",
    "\n",
    "#### 1. Str \n",
    "\n",
    "#### 2. List \n",
    "-  [LeetCode](https://leetcode.cn/problems/first-missing-positive/)  [| 41. 缺失的第一个正数](#41) \n",
    "\n",
    "#### 3. Linked \n",
    "\n",
    "#### 4. Tree \n",
    "\n",
    "#### 5. Graph \n",
    "-  [LeetCode](https://leetcode.cn/problems/set-matrix-zeroes/)  [| 73. 矩阵置零](#73) \n",
    "\n",
    "#### 6. Num\n",
    "\n",
    "#### 7. Combination\n"
   ]
  },
  {
   "cell_type": "markdown",
   "metadata": {},
   "source": [
    "### 41. <span id = \"41\">缺失的第一个正数<span>\n",
    "\n",
    "原地哈希"
   ]
  },
  {
   "cell_type": "code",
   "execution_count": null,
   "metadata": {},
   "outputs": [],
   "source": [
    "class Solution:\n",
    "    def firstMissingPositive(self, nums: List[int]) -> int:\n",
    "        n = len(nums)\n",
    "        for i in range(n):\n",
    "            if nums[i] <= 0:\n",
    "                nums[i] = n + 1\n",
    "\n",
    "        for i in range(n):\n",
    "            if abs(nums[i]) <= n:\n",
    "                nums[abs(nums[i]) - 1] = - abs(nums[abs(nums[i]) - 1])       \n",
    "         \n",
    "        for i in range(n):\n",
    "            if nums[i] > 0:\n",
    "                return i + 1\n",
    "\n",
    "        return n + 1"
   ]
  },
  {
   "cell_type": "markdown",
   "metadata": {},
   "source": [
    "### 73. <span id = \"73\">矩阵置零<span>\n",
    "\n",
    "最少需要一个标记变量"
   ]
  },
  {
   "cell_type": "code",
   "execution_count": null,
   "metadata": {},
   "outputs": [],
   "source": [
    "class Solution:\n",
    "    def setZeroes(self, matrix: List[List[int]]) -> None:\n",
    "        m, n = len(matrix), len(matrix[0])\n",
    "        flag_col0 = False\n",
    "        \n",
    "        for i in range(m):\n",
    "            if matrix[i][0] == 0:\n",
    "                flag_col0 = True\n",
    "            for j in range(1, n):\n",
    "                if matrix[i][j] == 0:\n",
    "                    matrix[i][0] = matrix[0][j] = 0\n",
    "        \n",
    "        for i in range(m - 1, -1, -1):\n",
    "            for j in range(1, n):\n",
    "                if matrix[i][0] == 0 or matrix[0][j] == 0:\n",
    "                    matrix[i][j] = 0\n",
    "            if flag_col0:\n",
    "                matrix[i][0] = 0"
   ]
  }
 ],
 "metadata": {
  "kernelspec": {
   "display_name": "Python 3.9.6 64-bit",
   "language": "python",
   "name": "python3"
  },
  "language_info": {
   "name": "python",
   "version": "3.9.6"
  },
  "orig_nbformat": 4,
  "vscode": {
   "interpreter": {
    "hash": "1aec40e0cc8dcd72ae861723d928da7f867ad57df585952e683e938264a3f0b6"
   }
  }
 },
 "nbformat": 4,
 "nbformat_minor": 2
}
