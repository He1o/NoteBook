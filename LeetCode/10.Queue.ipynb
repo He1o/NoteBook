{
 "cells": [
  {
   "cell_type": "markdown",
   "metadata": {},
   "source": [
    "# 队列\n",
    "\n",
    "\n",
    "\n",
    "#### 1. Str \n",
    "-  [LeetCode](https://leetcode.cn/problems/letter-combinations-of-a-phone-number/)  [| 17. 电话号码的字母组合](#17) \n",
    "\n",
    "#### 2. List \n",
    "\n",
    "#### 3. Linked \n",
    "\n",
    "#### 4. Tree \n",
    "\n",
    "#### 5. Graph \n",
    "\n",
    "#### 6. Num\n"
   ]
  },
  {
   "cell_type": "markdown",
   "metadata": {},
   "source": [
    "### 17. <span id = \"17\">电话号码的字母组合<span>\n",
    "\n",
    "队列的方式获取所有组合"
   ]
  },
  {
   "cell_type": "code",
   "execution_count": null,
   "metadata": {},
   "outputs": [],
   "source": [
    "class Solution:\n",
    "    NUMTOSTR = {\n",
    "        2: 'abc',\n",
    "        3: 'def',\n",
    "        4: 'ghi',\n",
    "        5: 'jkl',\n",
    "        6: 'mno',\n",
    "        7: 'pqrs',\n",
    "        8: 'tuv',\n",
    "        9: 'wxyz'\n",
    "    }\n",
    "    def letterCombinations(self, digits: str) -> List[str]:\n",
    "        if not digits:\n",
    "            return []\n",
    "        queue = collections.deque([''])\n",
    "        for num in digits:\n",
    "            for _ in range(len(queue)):\n",
    "                tmp = queue.popleft()\n",
    "                for ch in Solution.NUMTOSTR[int(num)]:\n",
    "                    queue.append(tmp + ch)\n",
    "        return list(queue)"
   ]
  }
 ],
 "metadata": {
  "kernelspec": {
   "display_name": "Python 3.9.6 64-bit",
   "language": "python",
   "name": "python3"
  },
  "language_info": {
   "name": "python",
   "version": "3.9.6"
  },
  "orig_nbformat": 4,
  "vscode": {
   "interpreter": {
    "hash": "1aec40e0cc8dcd72ae861723d928da7f867ad57df585952e683e938264a3f0b6"
   }
  }
 },
 "nbformat": 4,
 "nbformat_minor": 2
}
